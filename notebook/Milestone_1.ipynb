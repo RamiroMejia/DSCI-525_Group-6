{
 "cells": [
  {
   "cell_type": "code",
   "execution_count": 1,
   "id": "4be72178",
   "metadata": {},
   "outputs": [
    {
     "name": "stderr",
     "output_type": "stream",
     "text": [
      "C:\\Users\\ramir\\.conda\\envs\\525_2022\\lib\\site-packages\\ipykernel\\parentpoller.py:109: UserWarning: Parent poll failed.  If the frontend dies,\n",
      "                the kernel may be left running.  Please let us know\n",
      "                about your system (bitness, Python, etc.) at\n",
      "                ipython-dev@scipy.org\n",
      "  warnings.warn(\"\"\"Parent poll failed.  If the frontend dies,\n"
     ]
    }
   ],
   "source": [
    "import re\n",
    "import os\n",
    "import glob\n",
    "import zipfile\n",
    "import requests\n",
    "from urllib.request import urlretrieve\n",
    "import json\n",
    "import shutil\n",
    "import pandas as pd"
   ]
  },
  {
   "cell_type": "code",
   "execution_count": 39,
   "id": "28816e2e",
   "metadata": {},
   "outputs": [
    {
     "name": "stdout",
     "output_type": "stream",
     "text": [
      "C:\\Users\\ramir\\OneDrive\\Desktop\\MDS_UBC_2021\\labs_block6\\525\n"
     ]
    }
   ],
   "source": [
    "%cd /Users/ramir/OneDrive/Desktop/MDS_UBC_2021/labs_block6/525"
   ]
  },
  {
   "cell_type": "code",
   "execution_count": 2,
   "id": "a91e2315",
   "metadata": {},
   "outputs": [
    {
     "data": {
      "text/plain": [
       "[{'id': 26579150,\n",
       "  'name': 'daily_rainfall_2014.png',\n",
       "  'size': 58863,\n",
       "  'is_link_only': False,\n",
       "  'download_url': 'https://ndownloader.figshare.com/files/26579150',\n",
       "  'supplied_md5': 'fd32a2ffde300a31f8d63b1825d47e5e',\n",
       "  'computed_md5': 'fd32a2ffde300a31f8d63b1825d47e5e'},\n",
       " {'id': 26579171,\n",
       "  'name': 'environment.yml',\n",
       "  'size': 192,\n",
       "  'is_link_only': False,\n",
       "  'download_url': 'https://ndownloader.figshare.com/files/26579171',\n",
       "  'supplied_md5': '060b2020017eed93a1ee7dd8c65b2f34',\n",
       "  'computed_md5': '060b2020017eed93a1ee7dd8c65b2f34'},\n",
       " {'id': 26586554,\n",
       "  'name': 'README.md',\n",
       "  'size': 5422,\n",
       "  'is_link_only': False,\n",
       "  'download_url': 'https://ndownloader.figshare.com/files/26586554',\n",
       "  'supplied_md5': '61858c6cc0e6a6d6663a7e4c75bbd88c',\n",
       "  'computed_md5': '61858c6cc0e6a6d6663a7e4c75bbd88c'},\n",
       " {'id': 26766812,\n",
       "  'name': 'data.zip',\n",
       "  'size': 814041183,\n",
       "  'is_link_only': False,\n",
       "  'download_url': 'https://ndownloader.figshare.com/files/26766812',\n",
       "  'supplied_md5': 'b517383f76e77bd03755a63a8ff83ee9',\n",
       "  'computed_md5': 'b517383f76e77bd03755a63a8ff83ee9'},\n",
       " {'id': 26766815,\n",
       "  'name': 'get_data.py',\n",
       "  'size': 4113,\n",
       "  'is_link_only': False,\n",
       "  'download_url': 'https://ndownloader.figshare.com/files/26766815',\n",
       "  'supplied_md5': '7829028495fd9dec9680ea013474afa6',\n",
       "  'computed_md5': '7829028495fd9dec9680ea013474afa6'}]"
      ]
     },
     "execution_count": 2,
     "metadata": {},
     "output_type": "execute_result"
    }
   ],
   "source": [
    "# Downloading data \n",
    "article_id = 14096681 \n",
    "url = f\"https://api.figshare.com/v2/articles/{article_id}\"\n",
    "headers = {\"Content-Type\": \"application/json\"}\n",
    "#output\n",
    "output_directory = \"data/\"\n",
    "response = requests.request(\"GET\", url, headers=headers)\n",
    "data = json.loads(response.text)  \n",
    "files = data[\"files\"]             \n",
    "files"
   ]
  },
  {
   "cell_type": "code",
   "execution_count": 5,
   "id": "2e231110",
   "metadata": {},
   "outputs": [
    {
     "name": "stdout",
     "output_type": "stream",
     "text": [
      "CPU times: total: 9.3 s\n",
      "Wall time: 3min 17s\n"
     ]
    }
   ],
   "source": [
    "%%time\n",
    "\n",
    "if os.path.exists(f\"{output_directory}'data.zip'\"):\n",
    "    print(\"file exists\")\n",
    "\n",
    "else:\n",
    "    files_to_dl = [\"data.zip\"]  \n",
    "    for file in files:\n",
    "        if file[\"name\"] in files_to_dl:\n",
    "            os.makedirs(output_directory, exist_ok=True)\n",
    "            urlretrieve(file[\"download_url\"], output_directory + file[\"name\"])"
   ]
  },
  {
   "cell_type": "markdown",
   "id": "d1d295f4",
   "metadata": {},
   "source": [
    "## Results:\n",
    "\n",
    "| Team Member          | Operating System | RAM (GB) | Processor                 | Is SSD | Time taken |\n",
    "| -------------------- | ---------------- | -------- | ------------------------- | ------ | ---------- |\n",
    "|  Reza |  |  |  |  |  |\n",
    "| Taiwo          |  |  |  |  |  |\n",
    "| Allyson           |  |  |  |  |  |\n",
    "| Ramiro          | Windows 10 x64   | 8     | Intel Core i5  | No    | 3 mins 17s |"
   ]
  },
  {
   "cell_type": "code",
   "execution_count": 6,
   "id": "ba4781c4",
   "metadata": {},
   "outputs": [
    {
     "name": "stdout",
     "output_type": "stream",
     "text": [
      "CPU times: total: 25 s\n",
      "Wall time: 2min 10s\n"
     ]
    }
   ],
   "source": [
    "%%time\n",
    "with zipfile.ZipFile(os.path.join(output_directory, \"data.zip\"), 'r') as f:\n",
    "    f.extractall(output_directory)"
   ]
  },
  {
   "cell_type": "markdown",
   "id": "07a87ada",
   "metadata": {},
   "source": [
    "## Results:\n",
    "\n",
    "| Team Member          | Operating System | RAM (GB) | Processor                 | Is SSD | Time taken |\n",
    "| -------------------- | ---------------- | -------- | ------------------------- | ------ | ---------- |\n",
    "|  Reza Mirzazadeh |  |  |  |  |  |\n",
    "| Taiwo          |  |  |  |  |  |\n",
    "| Allyson Stoll           |  |  |  |  |  |\n",
    "| Ramiro Mejia          | Windows 10 x64   | 8     | Intel Core i5  | No    | 2 mins 10s |"
   ]
  },
  {
   "cell_type": "code",
   "execution_count": 7,
   "id": "5b3377c5",
   "metadata": {},
   "outputs": [
    {
     "name": "stdout",
     "output_type": "stream",
     "text": [
      " Volume in drive C is OS\n",
      " Volume Serial Number is 4AFF-EDFD\n",
      "\n",
      " Directory of C:\\Users\\ramir\\OneDrive\\Desktop\\MDS_UBC_2021\\labs_block6\\525\\figrainfall\n",
      "\n",
      "03/28/2022  04:23 PM    <DIR>          .\n",
      "03/28/2022  04:23 PM    <DIR>          ..\n",
      "03/28/2022  02:39 PM    <DIR>          __MACOSX\n",
      "03/28/2022  04:19 PM       127,613,760 ACCESS-CM2_daily_rainfall_NSW.csv\n",
      "03/28/2022  04:20 PM       114,707,410 ACCESS-ESM1-5_daily_rainfall_NSW.csv\n",
      "03/28/2022  04:19 PM        94,960,113 AWI-ESM-1-1-LR_daily_rainfall_NSW.csv\n",
      "03/28/2022  04:20 PM       294,260,911 BCC-CSM2-MR_daily_rainfall_NSW.csv\n",
      "03/28/2022  04:21 PM        55,224,437 BCC-ESM1_daily_rainfall_NSW.csv\n",
      "03/28/2022  04:22 PM        46,286,371 CanESM5_daily_rainfall_NSW.csv\n",
      "03/28/2022  04:20 PM       330,360,682 CMCC-CM2-HR4_daily_rainfall_NSW.csv\n",
      "03/28/2022  04:21 PM       328,787,320 CMCC-CM2-SR5_daily_rainfall_NSW.csv\n",
      "03/28/2022  04:20 PM       328,852,379 CMCC-ESM2_daily_rainfall_NSW.csv\n",
      "03/28/2022  03:04 PM     6,782,678,136 combined_data.csv\n",
      "03/28/2022  04:19 PM       814,041,183 data.zip\n",
      "03/28/2022  04:20 PM       295,768,615 EC-Earth3-Veg-LR_daily_rainfall_NSW.csv\n",
      "03/28/2022  04:19 PM       232,118,894 FGOALS-f3-L_daily_rainfall_NSW.csv\n",
      "03/28/2022  04:20 PM       116,179,272 FGOALS-g3_daily_rainfall_NSW.csv\n",
      "03/28/2022  04:20 PM       235,661,418 GFDL-CM4_daily_rainfall_NSW.csv\n",
      "03/28/2022  04:21 PM       124,586,961 GFDL-ESM4_daily_rainfall_NSW.csv\n",
      "03/28/2022  04:20 PM       102,517,965 INM-CM4-8_daily_rainfall_NSW.csv\n",
      "03/28/2022  04:21 PM       102,692,289 INM-CM5-0_daily_rainfall_NSW.csv\n",
      "03/28/2022  04:21 PM        93,829,697 KIOST-ESM_daily_rainfall_NSW.csv\n",
      "03/28/2022  04:21 PM       206,822,938 MIROC6_daily_rainfall_NSW.csv\n",
      "03/28/2022  04:19 PM        95,376,895 MPI-ESM-1-2-HAM_daily_rainfall_NSW.csv\n",
      "03/28/2022  04:20 PM       515,458,033 MPI-ESM1-2-HR_daily_rainfall_NSW.csv\n",
      "03/28/2022  04:20 PM        95,640,682 MPI-ESM1-2-LR_daily_rainfall_NSW.csv\n",
      "03/28/2022  04:20 PM       254,009,247 MRI-ESM2-0_daily_rainfall_NSW.csv\n",
      "03/28/2022  04:20 PM        67,784,105 NESM3_daily_rainfall_NSW.csv\n",
      "03/28/2022  04:19 PM        82,474,546 NorESM2-LM_daily_rainfall_NSW.csv\n",
      "03/28/2022  04:21 PM       337,555,851 NorESM2-MM_daily_rainfall_NSW.csv\n",
      "03/28/2022  02:45 PM    <DIR>          observed_daily_rainfall_SYD\n",
      "03/28/2022  04:21 PM           952,202 observed_daily_rainfall_SYD.csv\n",
      "03/28/2022  04:22 PM       333,489,879 SAM0-UNICON_daily_rainfall_NSW.csv\n",
      "03/28/2022  04:21 PM       332,813,281 TaiESM1_daily_rainfall_NSW.csv\n",
      "              30 File(s) 12,943,505,472 bytes\n",
      "               4 Dir(s)  567,076,659,200 bytes free\n"
     ]
    }
   ],
   "source": [
    "%ls figrainfall"
   ]
  },
  {
   "cell_type": "code",
   "execution_count": 8,
   "id": "2c7a7202",
   "metadata": {},
   "outputs": [],
   "source": [
    "# moving/excluding observed rain_fall to another folder \n",
    "\n",
    "observed_rain_fall = 'observed_daily_rainfall_SYD.csv'\n",
    "\n",
    "os.makedirs(os.path.join(output_directory, 'observed_daily_rainfall_SYD'), exist_ok=True)\n",
    "\n",
    "if not os.path.exists(os.path.join(output_directory, observed_rain_fall)):\n",
    "    shutil.move(os.path.join(output_directory, file), os.path.join(output_directory, 'observed_daily_rainfall_SYD', file))"
   ]
  },
  {
   "cell_type": "markdown",
   "id": "087dcf5d",
   "metadata": {},
   "source": [
    "#### 1. Combine data CSVs into a single CSV using pandas."
   ]
  },
  {
   "cell_type": "code",
   "execution_count": 9,
   "id": "3341ec6d",
   "metadata": {},
   "outputs": [
    {
     "name": "stdout",
     "output_type": "stream",
     "text": [
      "CPU times: total: 9min 19s\n",
      "Wall time: 10min 26s\n"
     ]
    }
   ],
   "source": [
    "%%time\n",
    "\n",
    "files = glob.glob(f\"{output_directory}/*.csv\")\n",
    "                  \n",
    "df = pd.concat((pd.read_csv(file, index_col=0, parse_dates=True)\n",
    "                .assign(file=re.findall(r'(?<=\\\\)(.*)(?=_daily)', file)[0])\n",
    "                for file in files)\n",
    "              )\n",
    "\n",
    "df.to_csv(os.path.join(output_directory, \"combined_data.csv\"))"
   ]
  },
  {
   "cell_type": "code",
   "execution_count": 12,
   "id": "27e6e1ea",
   "metadata": {},
   "outputs": [
    {
     "name": "stdout",
     "output_type": "stream",
     "text": [
      "<class 'pandas.core.frame.DataFrame'>\n",
      "DatetimeIndex: 62513863 entries, 1889-01-01 12:00:00 to 2014-12-31 12:00:00\n",
      "Data columns (total 6 columns):\n",
      " #   Column         Dtype  \n",
      "---  ------         -----  \n",
      " 0   lat_min        float64\n",
      " 1   lat_max        float64\n",
      " 2   lon_min        float64\n",
      " 3   lon_max        float64\n",
      " 4   rain (mm/day)  float64\n",
      " 5   file           object \n",
      "dtypes: float64(5), object(1)\n",
      "memory usage: 3.3+ GB\n",
      "CPU times: total: 2min 25s\n",
      "Wall time: 8min 58s\n"
     ]
    }
   ],
   "source": [
    "%%time\n",
    "data = pd.read_csv(os.path.join(output_directory, \"combined_data.csv\") ,index_col=0, parse_dates=True)\n",
    "data.info()"
   ]
  },
  {
   "cell_type": "markdown",
   "id": "26a9fd26",
   "metadata": {},
   "source": [
    "## Results:\n",
    "\n",
    "| Team Member          | Operating System | RAM (GB) | Processor                 | Is SSD | Time taken |\n",
    "| -------------------- | ---------------- | -------- | ------------------------- | ------ | ---------- |\n",
    "|  Reza Mirzazadeh |  |  |  |  |  |\n",
    "| Taiwo          |  |  |  |  |  |\n",
    "| Allyson Stoll           |  |  |  |  |  |\n",
    "| Ramiro Mejia          | Windows 10 x64   | 8     | Intel Core i5  | No    | 2 mins 25s |"
   ]
  },
  {
   "cell_type": "markdown",
   "id": "85d81e6e",
   "metadata": {},
   "source": [
    "## Changing dtypes"
   ]
  },
  {
   "cell_type": "code",
   "execution_count": 15,
   "id": "061d9c6b",
   "metadata": {},
   "outputs": [
    {
     "name": "stdout",
     "output_type": "stream",
     "text": [
      "CPU times: total: 2min 6s\n",
      "Wall time: 5min 5s\n"
     ]
    }
   ],
   "source": [
    "%%time\n",
    "\n",
    "types = {'lat_min': 'float16', \n",
    "          'lat_max': 'float16', \n",
    "          'lon_min': 'float16', \n",
    "          'lon_max': 'float16',\n",
    "          'rain (mm/day)':'float16',\n",
    "          'file':'str'}\n",
    "\n",
    "df = pd.read_csv(os.path.join(output_directory, \"combined_data.csv\"),index_col=0, parse_dates=True, dtype=types)"
   ]
  },
  {
   "cell_type": "markdown",
   "id": "4b594eb9",
   "metadata": {},
   "source": [
    "## Results:\n",
    "\n",
    "| Team Member          | Operating System | RAM (GB) | Processor                 | Is SSD | Time taken |\n",
    "| -------------------- | ---------------- | -------- | ------------------------- | ------ | ---------- |\n",
    "|  Reza Mirzazadeh |  |  |  |  |  |\n",
    "| Taiwo          |  |  |  |  |  |\n",
    "| Allyson Stoll           |  |  |  |  |  |\n",
    "| Ramiro Mejia          | Windows 10 x64   | 8     | Intel Core i5  | No    | 2 mins 6s |"
   ]
  },
  {
   "cell_type": "markdown",
   "id": "d00ada23",
   "metadata": {},
   "source": [
    "## Selected columns"
   ]
  },
  {
   "cell_type": "code",
   "execution_count": 17,
   "id": "f685717b",
   "metadata": {},
   "outputs": [
    {
     "name": "stdout",
     "output_type": "stream",
     "text": [
      "CPU times: total: 2min 7s\n",
      "Wall time: 4min 16s\n"
     ]
    }
   ],
   "source": [
    "%%time\n",
    "\n",
    "cols = [\"rain (mm/day)\",\"file\"]\n",
    "types = {'rain (mm/day)':'float16',\n",
    "        'file':'str'}\n",
    "df = pd.read_csv(os.path.join(output_directory, \"combined_data.csv\"),\n",
    "                 index_col=0, parse_dates=True, usecols=cols, dtype=types)"
   ]
  },
  {
   "cell_type": "markdown",
   "id": "e0b016b3",
   "metadata": {},
   "source": [
    "## Results:\n",
    "\n",
    "| Team Member          | Operating System | RAM (GB) | Processor                 | Is SSD | Time taken |\n",
    "| -------------------- | ---------------- | -------- | ------------------------- | ------ | ---------- |\n",
    "|  Reza Mirzazadeh |  |  |  |  |  |\n",
    "| Taiwo          |  |  |  |  |  |\n",
    "| Allyson Stoll           |  |  |  |  |  |\n",
    "| Ramiro Mejia          | Windows 10 x64   | 8     | Intel Core i5  | No    | 2 mins 7s |"
   ]
  },
  {
   "cell_type": "markdown",
   "id": "46362bee",
   "metadata": {},
   "source": [
    "## Chunks"
   ]
  },
  {
   "cell_type": "code",
   "execution_count": 19,
   "id": "769e75b5",
   "metadata": {},
   "outputs": [
    {
     "name": "stdout",
     "output_type": "stream",
     "text": [
      "ACCESS-CM2          1932840\n",
      "ACCESS-ESM1-5       1610700\n",
      "AWI-ESM-1-1-LR       966420\n",
      "BCC-CSM2-MR         3035340\n",
      "BCC-ESM1             551880\n",
      "CMCC-CM2-HR4        3541230\n",
      "CMCC-CM2-SR5        3541230\n",
      "CMCC-ESM2           3541230\n",
      "CanESM5              551880\n",
      "EC-Earth3-Veg-LR    3037320\n",
      "FGOALS-f3-L         3219300\n",
      "FGOALS-g3           1287720\n",
      "GFDL-CM4            3219300\n",
      "GFDL-ESM4           3219300\n",
      "INM-CM4-8           1609650\n",
      "INM-CM5-0           1609650\n",
      "KIOST-ESM           1287720\n",
      "MIROC6              2070900\n",
      "MPI-ESM-1-2-HAM      966420\n",
      "MPI-ESM1-2-HR       5154240\n",
      "MPI-ESM1-2-LR        966420\n",
      "MRI-ESM2-0          3037320\n",
      "NESM3                966420\n",
      "NorESM2-LM           919800\n",
      "NorESM2-MM          3541230\n",
      "SAM0-UNICON         3541153\n",
      "TaiESM1             3541230\n",
      "observed              46020\n",
      "dtype: int32\n",
      "CPU times: total: 1min 40s\n",
      "Wall time: 3min 49s\n"
     ]
    }
   ],
   "source": [
    "%%time\n",
    "\n",
    "counts = pd.Series(dtype=int)\n",
    "for chunk in pd.read_csv(os.path.join(output_directory, \"combined_data.csv\"), chunksize=100_000):\n",
    "    counts = counts.add(chunk[\"file\"].value_counts(), fill_value=0)\n",
    "print(counts.astype(int))"
   ]
  },
  {
   "cell_type": "markdown",
   "id": "f504198c",
   "metadata": {},
   "source": [
    "## Results:\n",
    "\n",
    "| Team Member          | Operating System | RAM (GB) | Processor                 | Is SSD | Time taken |\n",
    "| -------------------- | ---------------- | -------- | ------------------------- | ------ | ---------- |\n",
    "|  Reza Mirzazadeh |  |  |  |  |  |\n",
    "| Taiwo          |  |  |  |  |  |\n",
    "| Allyson Stoll           |  |  |  |  |  |\n",
    "| Ramiro Mejia          | Windows 10 x64   | 8     | Intel Core i5  | No    | 1 mins 40s |"
   ]
  },
  {
   "cell_type": "markdown",
   "id": "3ad622fa",
   "metadata": {},
   "source": [
    "## EDA"
   ]
  }
 ],
 "metadata": {
  "kernelspec": {
   "display_name": "Python [conda env:.conda-525_2022]",
   "language": "python",
   "name": "conda-env-.conda-525_2022-py"
  },
  "language_info": {
   "codemirror_mode": {
    "name": "ipython",
    "version": 3
   },
   "file_extension": ".py",
   "mimetype": "text/x-python",
   "name": "python",
   "nbconvert_exporter": "python",
   "pygments_lexer": "ipython3",
   "version": "3.8.6"
  }
 },
 "nbformat": 4,
 "nbformat_minor": 5
}
