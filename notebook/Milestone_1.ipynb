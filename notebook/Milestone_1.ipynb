{
 "cells": [
  {
   "cell_type": "code",
   "execution_count": 23,
   "id": "ae203815",
   "metadata": {},
   "outputs": [],
   "source": [
    "import re\n",
    "import os\n",
    "import glob\n",
    "import zipfile\n",
    "import requests\n",
    "from urllib.request import urlretrieve\n",
    "import json\n",
    "import shutil\n",
    "import pandas as pd"
   ]
  },
  {
   "cell_type": "code",
   "execution_count": 3,
   "id": "f3ec65c3",
   "metadata": {},
   "outputs": [
    {
     "name": "stdout",
     "output_type": "stream",
     "text": [
      "C:\\Users\\ramir\\OneDrive\\Desktop\\MDS_UBC_2021\\labs_block6\\525\n"
     ]
    }
   ],
   "source": [
    "%cd /Users/ramir/OneDrive/Desktop/MDS_UBC_2021/labs_block6/525"
   ]
  },
  {
   "cell_type": "code",
   "execution_count": 14,
   "id": "4847c35b",
   "metadata": {},
   "outputs": [],
   "source": [
    "# Necessary metadata\n",
    "article_id = 14096681 \n",
    "url = f\"https://api.figshare.com/v2/articles/{article_id}\"\n",
    "headers = {\"Content-Type\": \"application/json\"}\n",
    "output_dory = \"figrainfall/\""
   ]
  },
  {
   "cell_type": "code",
   "execution_count": 18,
   "id": "ee8fcb30",
   "metadata": {},
   "outputs": [
    {
     "data": {
      "text/plain": [
       "[{'id': 26579150,\n",
       "  'name': 'daily_rainfall_2014.png',\n",
       "  'size': 58863,\n",
       "  'is_link_only': False,\n",
       "  'download_url': 'https://ndownloader.figshare.com/files/26579150',\n",
       "  'supplied_md5': 'fd32a2ffde300a31f8d63b1825d47e5e',\n",
       "  'computed_md5': 'fd32a2ffde300a31f8d63b1825d47e5e'},\n",
       " {'id': 26579171,\n",
       "  'name': 'environment.yml',\n",
       "  'size': 192,\n",
       "  'is_link_only': False,\n",
       "  'download_url': 'https://ndownloader.figshare.com/files/26579171',\n",
       "  'supplied_md5': '060b2020017eed93a1ee7dd8c65b2f34',\n",
       "  'computed_md5': '060b2020017eed93a1ee7dd8c65b2f34'},\n",
       " {'id': 26586554,\n",
       "  'name': 'README.md',\n",
       "  'size': 5422,\n",
       "  'is_link_only': False,\n",
       "  'download_url': 'https://ndownloader.figshare.com/files/26586554',\n",
       "  'supplied_md5': '61858c6cc0e6a6d6663a7e4c75bbd88c',\n",
       "  'computed_md5': '61858c6cc0e6a6d6663a7e4c75bbd88c'},\n",
       " {'id': 26766812,\n",
       "  'name': 'data.zip',\n",
       "  'size': 814041183,\n",
       "  'is_link_only': False,\n",
       "  'download_url': 'https://ndownloader.figshare.com/files/26766812',\n",
       "  'supplied_md5': 'b517383f76e77bd03755a63a8ff83ee9',\n",
       "  'computed_md5': 'b517383f76e77bd03755a63a8ff83ee9'},\n",
       " {'id': 26766815,\n",
       "  'name': 'get_data.py',\n",
       "  'size': 4113,\n",
       "  'is_link_only': False,\n",
       "  'download_url': 'https://ndownloader.figshare.com/files/26766815',\n",
       "  'supplied_md5': '7829028495fd9dec9680ea013474afa6',\n",
       "  'computed_md5': '7829028495fd9dec9680ea013474afa6'}]"
      ]
     },
     "execution_count": 18,
     "metadata": {},
     "output_type": "execute_result"
    }
   ],
   "source": [
    "response = requests.request(\"GET\", url, headers=headers)\n",
    "data = json.loads(response.text)  \n",
    "files = data[\"files\"]             \n",
    "files"
   ]
  },
  {
   "cell_type": "code",
   "execution_count": 19,
   "id": "f653ce44",
   "metadata": {},
   "outputs": [
    {
     "name": "stdout",
     "output_type": "stream",
     "text": [
      "CPU times: total: 12.3 s\n",
      "Wall time: 1min 34s\n"
     ]
    }
   ],
   "source": [
    "%%time\n",
    "files_to_dl = [\"data.zip\"]  \n",
    "for file in files:\n",
    "    if file[\"name\"] in files_to_dl:\n",
    "        os.makedirs(output_directory, exist_ok=True)\n",
    "        urlretrieve(file[\"download_url\"], output_directory + file[\"name\"])"
   ]
  },
  {
   "cell_type": "code",
   "execution_count": 20,
   "id": "8557ffa7",
   "metadata": {},
   "outputs": [
    {
     "name": "stdout",
     "output_type": "stream",
     "text": [
      "CPU times: total: 24.6 s\n",
      "Wall time: 2min 11s\n"
     ]
    }
   ],
   "source": [
    "%%time\n",
    "with zipfile.ZipFile(os.path.join(output_directory, \"data.zip\"), 'r') as f:\n",
    "    f.extractall(output_directory)"
   ]
  },
  {
   "cell_type": "code",
   "execution_count": 22,
   "id": "1ffd957e",
   "metadata": {},
   "outputs": [
    {
     "name": "stdout",
     "output_type": "stream",
     "text": [
      " Volume in drive C is OS\n",
      " Volume Serial Number is 4AFF-EDFD\n",
      "\n",
      " Directory of C:\\Users\\ramir\\OneDrive\\Desktop\\MDS_UBC_2021\\labs_block6\\525\n",
      "\n",
      "\n",
      " Directory of C:\\Users\\ramir\\OneDrive\\Desktop\\MDS_UBC_2021\\labs_block6\\525\\figrainfall\n",
      "\n",
      "03/28/2022  02:38 PM    <DIR>          .\n",
      "03/28/2022  02:38 PM    <DIR>          ..\n",
      "03/28/2022  02:38 PM    <DIR>          __MACOSX\n",
      "03/28/2022  02:36 PM       127,613,760 ACCESS-CM2_daily_rainfall_NSW.csv\n",
      "03/28/2022  02:37 PM       114,707,410 ACCESS-ESM1-5_daily_rainfall_NSW.csv\n",
      "03/28/2022  02:36 PM        94,960,113 AWI-ESM-1-1-LR_daily_rainfall_NSW.csv\n",
      "03/28/2022  02:37 PM       294,260,911 BCC-CSM2-MR_daily_rainfall_NSW.csv\n",
      "03/28/2022  02:38 PM        55,224,437 BCC-ESM1_daily_rainfall_NSW.csv\n",
      "03/28/2022  02:38 PM        46,286,371 CanESM5_daily_rainfall_NSW.csv\n",
      "03/28/2022  02:37 PM       330,360,682 CMCC-CM2-HR4_daily_rainfall_NSW.csv\n",
      "03/28/2022  02:38 PM       328,787,320 CMCC-CM2-SR5_daily_rainfall_NSW.csv\n",
      "03/28/2022  02:37 PM       328,852,379 CMCC-ESM2_daily_rainfall_NSW.csv\n",
      "03/28/2022  02:36 PM       814,041,183 data.zip\n",
      "03/28/2022  02:37 PM       295,768,615 EC-Earth3-Veg-LR_daily_rainfall_NSW.csv\n",
      "03/28/2022  02:36 PM       232,118,894 FGOALS-f3-L_daily_rainfall_NSW.csv\n",
      "03/28/2022  02:37 PM       116,179,272 FGOALS-g3_daily_rainfall_NSW.csv\n",
      "03/28/2022  02:37 PM       235,661,418 GFDL-CM4_daily_rainfall_NSW.csv\n",
      "03/28/2022  02:38 PM       124,586,961 GFDL-ESM4_daily_rainfall_NSW.csv\n",
      "03/28/2022  02:37 PM       102,517,965 INM-CM4-8_daily_rainfall_NSW.csv\n",
      "03/28/2022  02:38 PM       102,692,289 INM-CM5-0_daily_rainfall_NSW.csv\n",
      "03/28/2022  02:38 PM        93,829,697 KIOST-ESM_daily_rainfall_NSW.csv\n",
      "03/28/2022  02:38 PM       206,822,938 MIROC6_daily_rainfall_NSW.csv\n",
      "03/28/2022  02:36 PM        95,376,895 MPI-ESM-1-2-HAM_daily_rainfall_NSW.csv\n",
      "03/28/2022  02:38 PM       515,458,033 MPI-ESM1-2-HR_daily_rainfall_NSW.csv\n",
      "03/28/2022  02:37 PM        95,640,682 MPI-ESM1-2-LR_daily_rainfall_NSW.csv\n",
      "03/28/2022  02:37 PM       254,009,247 MRI-ESM2-0_daily_rainfall_NSW.csv\n",
      "03/28/2022  02:37 PM        67,784,105 NESM3_daily_rainfall_NSW.csv\n",
      "03/28/2022  02:36 PM        82,474,546 NorESM2-LM_daily_rainfall_NSW.csv\n",
      "03/28/2022  02:38 PM       337,555,851 NorESM2-MM_daily_rainfall_NSW.csv\n",
      "03/28/2022  02:38 PM           952,202 observed_daily_rainfall_SYD.csv\n",
      "03/28/2022  02:39 PM       333,489,879 SAM0-UNICON_daily_rainfall_NSW.csv\n",
      "03/28/2022  02:38 PM       332,813,281 TaiESM1_daily_rainfall_NSW.csv\n",
      "              29 File(s)  6,160,827,336 bytes\n",
      "               3 Dir(s)  584,430,960,640 bytes free\n"
     ]
    },
    {
     "name": "stderr",
     "output_type": "stream",
     "text": [
      "File Not Found\n"
     ]
    }
   ],
   "source": [
    "%ls -ltr figrainfall"
   ]
  },
  {
   "cell_type": "code",
   "execution_count": 26,
   "id": "a0af38d8",
   "metadata": {},
   "outputs": [
    {
     "data": {
      "text/plain": [
       "'figrainfall/observed_daily_rainfall_SYD\\\\observed_daily_rainfall_SYD.csv'"
      ]
     },
     "execution_count": 26,
     "metadata": {},
     "output_type": "execute_result"
    }
   ],
   "source": [
    "# moving/excluding observed rain_fall to another folder \n",
    "\n",
    "file = 'observed_daily_rainfall_SYD.csv'\n",
    "os.makedirs(os.path.join(output_directory, 'observed_daily_rainfall_SYD'), exist_ok=True)\n",
    "shutil.move(os.path.join(output_directory, file), os.path.join(output_directory, 'observed_daily_rainfall_SYD', file))"
   ]
  },
  {
   "cell_type": "markdown",
   "id": "a6b4bfae",
   "metadata": {},
   "source": [
    "#### 1. Combine data CSVs into a single CSV using pandas."
   ]
  },
  {
   "cell_type": "code",
   "execution_count": 30,
   "id": "9ec27bd6",
   "metadata": {},
   "outputs": [],
   "source": [
    "files = glob.glob(f\"{output_directory}/*.csv\")\n",
    "                  \n",
    "df = pd.concat((pd.read_csv(file, index_col=0)\n",
    "                .assign(year=re.findall(\"^[^_]*\", file)[0])\n",
    "                for file in files)\n",
    "              )\n",
    "df.to_csv(f\"{output_directory}combined_data.csv\")"
   ]
  },
  {
   "cell_type": "code",
   "execution_count": null,
   "id": "576cf214",
   "metadata": {},
   "outputs": [],
   "source": [
    "data = pd.read_csv(f\"{output_directory}combined_data.csv\")"
   ]
  },
  {
   "cell_type": "code",
   "execution_count": null,
   "id": "d70a36c9",
   "metadata": {},
   "outputs": [],
   "source": [
    "data."
   ]
  },
  {
   "cell_type": "code",
   "execution_count": null,
   "id": "a86a2081",
   "metadata": {},
   "outputs": [],
   "source": []
  }
 ],
 "metadata": {
  "kernelspec": {
   "display_name": "Python [conda env:.conda-525_2022]",
   "language": "python",
   "name": "conda-env-.conda-525_2022-py"
  },
  "language_info": {
   "codemirror_mode": {
    "name": "ipython",
    "version": 3
   },
   "file_extension": ".py",
   "mimetype": "text/x-python",
   "name": "python",
   "nbconvert_exporter": "python",
   "pygments_lexer": "ipython3",
   "version": "3.8.6"
  }
 },
 "nbformat": 4,
 "nbformat_minor": 5
}
