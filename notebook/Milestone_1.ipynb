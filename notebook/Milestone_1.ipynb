{
 "cells": [
  {
   "cell_type": "code",
   "execution_count": 1,
   "id": "4be72178",
   "metadata": {},
   "outputs": [
    {
     "name": "stderr",
     "output_type": "stream",
     "text": [
      "C:\\Users\\ramir\\.conda\\envs\\525_2022\\lib\\site-packages\\ipykernel\\parentpoller.py:109: UserWarning: Parent poll failed.  If the frontend dies,\n",
      "                the kernel may be left running.  Please let us know\n",
      "                about your system (bitness, Python, etc.) at\n",
      "                ipython-dev@scipy.org\n",
      "  warnings.warn(\"\"\"Parent poll failed.  If the frontend dies,\n"
     ]
    }
   ],
   "source": [
    "import re\n",
    "import os\n",
    "import glob\n",
    "import zipfile\n",
    "import requests\n",
    "from urllib.request import urlretrieve\n",
    "import json\n",
    "import shutil\n",
    "import pandas as pd"
   ]
  },
  {
   "cell_type": "code",
   "execution_count": 3,
   "id": "a91e2315",
   "metadata": {},
   "outputs": [
    {
     "data": {
      "text/plain": [
       "[{'id': 26579150,\n",
       "  'name': 'daily_rainfall_2014.png',\n",
       "  'size': 58863,\n",
       "  'is_link_only': False,\n",
       "  'download_url': 'https://ndownloader.figshare.com/files/26579150',\n",
       "  'supplied_md5': 'fd32a2ffde300a31f8d63b1825d47e5e',\n",
       "  'computed_md5': 'fd32a2ffde300a31f8d63b1825d47e5e'},\n",
       " {'id': 26579171,\n",
       "  'name': 'environment.yml',\n",
       "  'size': 192,\n",
       "  'is_link_only': False,\n",
       "  'download_url': 'https://ndownloader.figshare.com/files/26579171',\n",
       "  'supplied_md5': '060b2020017eed93a1ee7dd8c65b2f34',\n",
       "  'computed_md5': '060b2020017eed93a1ee7dd8c65b2f34'},\n",
       " {'id': 26586554,\n",
       "  'name': 'README.md',\n",
       "  'size': 5422,\n",
       "  'is_link_only': False,\n",
       "  'download_url': 'https://ndownloader.figshare.com/files/26586554',\n",
       "  'supplied_md5': '61858c6cc0e6a6d6663a7e4c75bbd88c',\n",
       "  'computed_md5': '61858c6cc0e6a6d6663a7e4c75bbd88c'},\n",
       " {'id': 26766812,\n",
       "  'name': 'data.zip',\n",
       "  'size': 814041183,\n",
       "  'is_link_only': False,\n",
       "  'download_url': 'https://ndownloader.figshare.com/files/26766812',\n",
       "  'supplied_md5': 'b517383f76e77bd03755a63a8ff83ee9',\n",
       "  'computed_md5': 'b517383f76e77bd03755a63a8ff83ee9'},\n",
       " {'id': 26766815,\n",
       "  'name': 'get_data.py',\n",
       "  'size': 4113,\n",
       "  'is_link_only': False,\n",
       "  'download_url': 'https://ndownloader.figshare.com/files/26766815',\n",
       "  'supplied_md5': '7829028495fd9dec9680ea013474afa6',\n",
       "  'computed_md5': '7829028495fd9dec9680ea013474afa6'}]"
      ]
     },
     "execution_count": 3,
     "metadata": {},
     "output_type": "execute_result"
    }
   ],
   "source": [
    "# Downloading data \n",
    "article_id = 14096681 \n",
    "url = f\"https://api.figshare.com/v2/articles/{article_id}\"\n",
    "headers = {\"Content-Type\": \"application/json\"}\n",
    "#output\n",
    "output_directory = \"data/\"\n",
    "response = requests.request(\"GET\", url, headers=headers)\n",
    "data = json.loads(response.text)  \n",
    "files = data[\"files\"]             \n",
    "files"
   ]
  },
  {
   "cell_type": "code",
   "execution_count": 3,
   "id": "2e231110",
   "metadata": {},
   "outputs": [
    {
     "name": "stdout",
     "output_type": "stream",
     "text": [
      "CPU times: total: 8.58 s\n",
      "Wall time: 3min 12s\n"
     ]
    }
   ],
   "source": [
    "%%time\n",
    "files_to_dl = [\"data.zip\"]  \n",
    "for file in files:\n",
    "    if file[\"name\"] in files_to_dl:\n",
    "        os.makedirs(output_directory, exist_ok=True)\n",
    "        urlretrieve(file[\"download_url\"], output_directory + file[\"name\"])"
   ]
  },
  {
   "cell_type": "markdown",
   "id": "d1d295f4",
   "metadata": {},
   "source": [
    "## Results:\n",
    "\n",
    "| Team Member          | Operating System | RAM (GB) | Processor                 | Is SSD | Time taken |\n",
    "| -------------------- | ---------------- | -------- | ------------------------- | ------ | ---------- |\n",
    "|  Reza |  |  |  |  |  |\n",
    "| Taiwo          |  |  |  |  |  |\n",
    "| Allyson Stoll        | MacOS BigSur     | 16    | 2.8GHz Intel Core i7         | Yes   | 5.69s      |\n",
    "| Ramiro               | Windows Pro 10 x64   | 8     | Intel Core i5-9300H 2.40 GHz                | No    | 7 mins 31s |"
   ]
  },
  {
   "cell_type": "code",
   "execution_count": 4,
   "id": "ba4781c4",
   "metadata": {},
   "outputs": [
    {
     "name": "stdout",
     "output_type": "stream",
     "text": [
      "CPU times: total: 19.4 s\n",
      "Wall time: 1min 40s\n"
     ]
    }
   ],
   "source": [
    "%%time\n",
    "with zipfile.ZipFile(os.path.join(output_directory, \"data.zip\"), 'r') as f:\n",
    "    f.extractall(output_directory)"
   ]
  },
  {
   "cell_type": "markdown",
   "id": "07a87ada",
   "metadata": {},
   "source": [
    "## Results:\n",
    "\n",
    "| Team Member          | Operating System | RAM (GB) | Processor                 | Is SSD | Time taken |\n",
    "| -------------------- | ---------------- | -------- | ------------------------- | ------ | ---------- |\n",
    "|  Reza Mirzazadeh |  |  |  |  |  |\n",
    "| Taiwo          |  |  |  |  |  |\n",
    "| Allyson Stoll        | MacOS BigSur     | 16    | 2.8GHz Intel Core i7         | Yes   | 16.4s      |\n",
    "| Ramiro Mejia         | Windows Pro 10 x64   | 8     | Intel Core i5-9300H 2.40 GHz               | No    | 2 mins 10s |"
   ]
  },
  {
   "cell_type": "code",
   "execution_count": 5,
   "id": "2c7a7202",
   "metadata": {},
   "outputs": [],
   "source": [
    "# moving/excluding observed rain_fall to another folder \n",
    "\n",
    "observed_rain_fall = 'observed_daily_rainfall_SYD.csv'\n",
    "\n",
    "os.makedirs(os.path.join(output_directory, 'observed_daily_rainfall_SYD'), exist_ok=True)\n",
    "\n",
    "if os.path.exists(os.path.join(output_directory, observed_rain_fall)):\n",
    "    shutil.move(os.path.join(output_directory, observed_rain_fall), os.path.join(output_directory, 'observed_daily_rainfall_SYD/', observed_rain_fall))"
   ]
  },
  {
   "cell_type": "code",
   "execution_count": 6,
   "id": "4373cd6c",
   "metadata": {},
   "outputs": [
    {
     "name": "stdout",
     "output_type": "stream",
     "text": [
      " Volume in drive C is OS\n",
      " Volume Serial Number is 4AFF-EDFD\n",
      "\n",
      " Directory of C:\\Users\\ramir\\OneDrive\\Desktop\\MDS_UBC_2021\\labs_block6\\525\\DSCI-525_Group-6\\notebook\\data\n",
      "\n",
      "03/31/2022  12:56 PM    <DIR>          .\n",
      "03/31/2022  12:56 PM    <DIR>          ..\n",
      "03/31/2022  12:56 PM    <DIR>          __MACOSX\n",
      "03/31/2022  12:55 PM       127,613,760 ACCESS-CM2_daily_rainfall_NSW.csv\n",
      "03/31/2022  12:55 PM       114,707,410 ACCESS-ESM1-5_daily_rainfall_NSW.csv\n",
      "03/31/2022  12:55 PM        94,960,113 AWI-ESM-1-1-LR_daily_rainfall_NSW.csv\n",
      "03/31/2022  12:55 PM       294,260,911 BCC-CSM2-MR_daily_rainfall_NSW.csv\n",
      "03/31/2022  12:56 PM        55,224,437 BCC-ESM1_daily_rainfall_NSW.csv\n",
      "03/31/2022  12:56 PM        46,286,371 CanESM5_daily_rainfall_NSW.csv\n",
      "03/31/2022  12:55 PM       330,360,682 CMCC-CM2-HR4_daily_rainfall_NSW.csv\n",
      "03/31/2022  12:56 PM       328,787,320 CMCC-CM2-SR5_daily_rainfall_NSW.csv\n",
      "03/31/2022  12:55 PM       328,852,379 CMCC-ESM2_daily_rainfall_NSW.csv\n",
      "03/31/2022  12:55 PM       814,041,183 data.zip\n",
      "03/31/2022  12:55 PM       295,768,615 EC-Earth3-Veg-LR_daily_rainfall_NSW.csv\n",
      "03/31/2022  12:55 PM       232,118,894 FGOALS-f3-L_daily_rainfall_NSW.csv\n",
      "03/31/2022  12:55 PM       116,179,272 FGOALS-g3_daily_rainfall_NSW.csv\n",
      "03/31/2022  12:55 PM       235,661,418 GFDL-CM4_daily_rainfall_NSW.csv\n",
      "03/31/2022  12:56 PM       124,586,961 GFDL-ESM4_daily_rainfall_NSW.csv\n",
      "03/31/2022  12:55 PM       102,517,965 INM-CM4-8_daily_rainfall_NSW.csv\n",
      "03/31/2022  12:56 PM       102,692,289 INM-CM5-0_daily_rainfall_NSW.csv\n",
      "03/31/2022  12:56 PM        93,829,697 KIOST-ESM_daily_rainfall_NSW.csv\n",
      "03/31/2022  12:56 PM       206,822,938 MIROC6_daily_rainfall_NSW.csv\n",
      "03/31/2022  12:55 PM        95,376,895 MPI-ESM-1-2-HAM_daily_rainfall_NSW.csv\n",
      "03/31/2022  12:55 PM       515,458,033 MPI-ESM1-2-HR_daily_rainfall_NSW.csv\n",
      "03/31/2022  12:55 PM        95,640,682 MPI-ESM1-2-LR_daily_rainfall_NSW.csv\n",
      "03/31/2022  12:55 PM       254,009,247 MRI-ESM2-0_daily_rainfall_NSW.csv\n",
      "03/31/2022  12:55 PM        67,784,105 NESM3_daily_rainfall_NSW.csv\n",
      "03/31/2022  12:55 PM        82,474,546 NorESM2-LM_daily_rainfall_NSW.csv\n",
      "03/31/2022  12:56 PM       337,555,851 NorESM2-MM_daily_rainfall_NSW.csv\n",
      "03/31/2022  12:56 PM    <DIR>          observed_daily_rainfall_SYD\n",
      "03/31/2022  12:56 PM       333,489,879 SAM0-UNICON_daily_rainfall_NSW.csv\n",
      "03/31/2022  12:56 PM       332,813,281 TaiESM1_daily_rainfall_NSW.csv\n",
      "              28 File(s)  6,159,875,134 bytes\n",
      "               4 Dir(s)  516,523,896,832 bytes free\n"
     ]
    }
   ],
   "source": [
    "%ls data"
   ]
  },
  {
   "cell_type": "markdown",
   "id": "087dcf5d",
   "metadata": {},
   "source": [
    "#### 1. Combine data CSVs into a single CSV using pandas."
   ]
  },
  {
   "cell_type": "code",
   "execution_count": 7,
   "id": "3341ec6d",
   "metadata": {},
   "outputs": [
    {
     "name": "stdout",
     "output_type": "stream",
     "text": [
      "CPU times: total: 7min 13s\n",
      "Wall time: 12min 21s\n"
     ]
    }
   ],
   "source": [
    "%%time\n",
    "\n",
    "files = glob.glob(f\"data/*.csv\")\n",
    "                  \n",
    "df = pd.concat((pd.read_csv(file, index_col=0)\n",
    "                .assign(file=re.findall(r\"[\\/|\\\\](.*)_daily_rainfall\", file)[0])\n",
    "                for file in files)\n",
    "              )\n",
    "\n",
    "df.to_csv(os.path.join(output_directory, \"combined_data.csv\"))"
   ]
  },
  {
   "cell_type": "code",
   "execution_count": 8,
   "id": "07ddc64a",
   "metadata": {},
   "outputs": [
    {
     "data": {
      "text/html": [
       "<div>\n",
       "<style scoped>\n",
       "    .dataframe tbody tr th:only-of-type {\n",
       "        vertical-align: middle;\n",
       "    }\n",
       "\n",
       "    .dataframe tbody tr th {\n",
       "        vertical-align: top;\n",
       "    }\n",
       "\n",
       "    .dataframe thead th {\n",
       "        text-align: right;\n",
       "    }\n",
       "</style>\n",
       "<table border=\"1\" class=\"dataframe\">\n",
       "  <thead>\n",
       "    <tr style=\"text-align: right;\">\n",
       "      <th></th>\n",
       "      <th>lat_min</th>\n",
       "      <th>lat_max</th>\n",
       "      <th>lon_min</th>\n",
       "      <th>lon_max</th>\n",
       "      <th>rain (mm/day)</th>\n",
       "      <th>file</th>\n",
       "    </tr>\n",
       "    <tr>\n",
       "      <th>time</th>\n",
       "      <th></th>\n",
       "      <th></th>\n",
       "      <th></th>\n",
       "      <th></th>\n",
       "      <th></th>\n",
       "      <th></th>\n",
       "    </tr>\n",
       "  </thead>\n",
       "  <tbody>\n",
       "    <tr>\n",
       "      <th>1889-01-01 12:00:00</th>\n",
       "      <td>-36.25</td>\n",
       "      <td>-35.0</td>\n",
       "      <td>140.625</td>\n",
       "      <td>142.5</td>\n",
       "      <td>3.293256e-13</td>\n",
       "      <td>ACCESS-CM2</td>\n",
       "    </tr>\n",
       "    <tr>\n",
       "      <th>1889-01-02 12:00:00</th>\n",
       "      <td>-36.25</td>\n",
       "      <td>-35.0</td>\n",
       "      <td>140.625</td>\n",
       "      <td>142.5</td>\n",
       "      <td>0.000000e+00</td>\n",
       "      <td>ACCESS-CM2</td>\n",
       "    </tr>\n",
       "    <tr>\n",
       "      <th>1889-01-03 12:00:00</th>\n",
       "      <td>-36.25</td>\n",
       "      <td>-35.0</td>\n",
       "      <td>140.625</td>\n",
       "      <td>142.5</td>\n",
       "      <td>0.000000e+00</td>\n",
       "      <td>ACCESS-CM2</td>\n",
       "    </tr>\n",
       "    <tr>\n",
       "      <th>1889-01-04 12:00:00</th>\n",
       "      <td>-36.25</td>\n",
       "      <td>-35.0</td>\n",
       "      <td>140.625</td>\n",
       "      <td>142.5</td>\n",
       "      <td>0.000000e+00</td>\n",
       "      <td>ACCESS-CM2</td>\n",
       "    </tr>\n",
       "    <tr>\n",
       "      <th>1889-01-05 12:00:00</th>\n",
       "      <td>-36.25</td>\n",
       "      <td>-35.0</td>\n",
       "      <td>140.625</td>\n",
       "      <td>142.5</td>\n",
       "      <td>1.047658e-02</td>\n",
       "      <td>ACCESS-CM2</td>\n",
       "    </tr>\n",
       "  </tbody>\n",
       "</table>\n",
       "</div>"
      ],
      "text/plain": [
       "                     lat_min  lat_max  lon_min  lon_max  rain (mm/day)  \\\n",
       "time                                                                     \n",
       "1889-01-01 12:00:00   -36.25    -35.0  140.625    142.5   3.293256e-13   \n",
       "1889-01-02 12:00:00   -36.25    -35.0  140.625    142.5   0.000000e+00   \n",
       "1889-01-03 12:00:00   -36.25    -35.0  140.625    142.5   0.000000e+00   \n",
       "1889-01-04 12:00:00   -36.25    -35.0  140.625    142.5   0.000000e+00   \n",
       "1889-01-05 12:00:00   -36.25    -35.0  140.625    142.5   1.047658e-02   \n",
       "\n",
       "                           file  \n",
       "time                             \n",
       "1889-01-01 12:00:00  ACCESS-CM2  \n",
       "1889-01-02 12:00:00  ACCESS-CM2  \n",
       "1889-01-03 12:00:00  ACCESS-CM2  \n",
       "1889-01-04 12:00:00  ACCESS-CM2  \n",
       "1889-01-05 12:00:00  ACCESS-CM2  "
      ]
     },
     "execution_count": 8,
     "metadata": {},
     "output_type": "execute_result"
    }
   ],
   "source": [
    "df.head()"
   ]
  },
  {
   "cell_type": "markdown",
   "id": "f447e117-ccfb-45cd-8dc0-f41d05cac656",
   "metadata": {
    "tags": []
   },
   "source": [
    "## Results:\n",
    "\n",
    "| Team Member          | Operating System | RAM (GB) | Processor                 | Is SSD | Time taken |\n",
    "| -------------------- | ---------------- | -------- | ------------------------- | ------ | ---------- |\n",
    "|  Reza Mirzazadeh |  |  |  |  |  |\n",
    "| Taiwo          |  |  |  |  |  |\n",
    "| Allyson Stoll         | MacOS BigSur     | 16    | 2.8GHz Intel Core i7         | Yes   | 7 mins 9s  |\n",
    "| Ramiro Mejia          |  Windows Pro 10 x64   | 8     | Intel Core i5-9300H 2.40 GHz                | No    | 9 mins 19s |\n",
    "\n",
    "# Load the CSV into memory and complete simple EDA"
   ]
  },
  {
   "cell_type": "code",
   "execution_count": 9,
   "id": "27e6e1ea",
   "metadata": {},
   "outputs": [
    {
     "name": "stdout",
     "output_type": "stream",
     "text": [
      "<class 'pandas.core.frame.DataFrame'>\n",
      "DatetimeIndex: 62467843 entries, 1889-01-01 12:00:00 to 2014-12-31 12:00:00\n",
      "Data columns (total 6 columns):\n",
      " #   Column         Dtype  \n",
      "---  ------         -----  \n",
      " 0   lat_min        float64\n",
      " 1   lat_max        float64\n",
      " 2   lon_min        float64\n",
      " 3   lon_max        float64\n",
      " 4   rain (mm/day)  float64\n",
      " 5   file           object \n",
      "dtypes: float64(5), object(1)\n",
      "memory usage: 3.3+ GB\n",
      "CPU times: total: 2min 12s\n",
      "Wall time: 16min 53s\n"
     ]
    }
   ],
   "source": [
    "%%time\n",
    "data = pd.read_csv(os.path.join(output_directory, \"combined_data.csv\") ,index_col=0, parse_dates=True)\n",
    "data.info()"
   ]
  },
  {
   "cell_type": "markdown",
   "id": "26a9fd26",
   "metadata": {
    "jp-MarkdownHeadingCollapsed": true,
    "tags": []
   },
   "source": [
    "## Results:\n",
    "\n",
    "| Team Member          | Operating System | RAM (GB) | Processor                 | Is SSD | Time taken |\n",
    "| -------------------- | ---------------- | -------- | ------------------------- | ------ | ---------- |\n",
    "|  Reza Mirzazadeh |  |  |  |  |  |\n",
    "| Taiwo          |  |  |  |  |  |\n",
    "| Allyson Stoll         | MacOS BigSur     | 16    | 2.8GHz Intel Core i7         | Yes   | 1 min 11s  |\n",
    "| Ramiro Mejia          |  Windows Pro 10 x64   | 8     | Intel Core i5-9300H 2.40 GHz              | No    | 2 mins 25s |"
   ]
  },
  {
   "cell_type": "markdown",
   "id": "85d81e6e",
   "metadata": {},
   "source": [
    "## Changing dtypes"
   ]
  },
  {
   "cell_type": "code",
   "execution_count": 4,
   "id": "061d9c6b",
   "metadata": {},
   "outputs": [
    {
     "name": "stdout",
     "output_type": "stream",
     "text": [
      "<class 'pandas.core.frame.DataFrame'>\n",
      "DatetimeIndex: 62467843 entries, 1889-01-01 12:00:00 to 2014-12-31 12:00:00\n",
      "Data columns (total 6 columns):\n",
      " #   Column         Dtype  \n",
      "---  ------         -----  \n",
      " 0   lat_min        float16\n",
      " 1   lat_max        float16\n",
      " 2   lon_min        float16\n",
      " 3   lon_max        float16\n",
      " 4   rain (mm/day)  float16\n",
      " 5   file           object \n",
      "dtypes: float16(5), object(1)\n",
      "memory usage: 1.5+ GB\n",
      "CPU times: total: 1min 51s\n",
      "Wall time: 3min 3s\n"
     ]
    }
   ],
   "source": [
    "%%time\n",
    "\n",
    "types = {'lat_min': 'float16', \n",
    "          'lat_max': 'float16', \n",
    "          'lon_min': 'float16', \n",
    "          'lon_max': 'float16',\n",
    "          'rain (mm/day)':'float16',\n",
    "          'file':'str'}\n",
    "\n",
    "df = pd.read_csv(os.path.join(output_directory, \"combined_data.csv\"),index_col=0, parse_dates=True, dtype=types)\n",
    "df.info()"
   ]
  },
  {
   "cell_type": "markdown",
   "id": "4b594eb9",
   "metadata": {},
   "source": [
    "## Results:\n",
    "\n",
    "| Team Member          | Operating System | RAM (GB) | Processor                 | Is SSD | Time taken |\n",
    "| -------------------- | ---------------- | -------- | ------------------------- | ------ | ---------- |\n",
    "|  Reza Mirzazadeh |  |  |  |  |  |\n",
    "| Taiwo          |  |  |  |  |  |\n",
    "| Allyson Stoll         | MacOS BigSur     | 16    | 2.8GHz Intel Core i7         | Yes   | 1 min 3s   |\n",
    "| Ramiro Mejia          |  Windows Pro 10 x64   | 8     | Intel Core i5-9300H 2.40 GHz               | No    | 2 mins 6s  |"
   ]
  },
  {
   "cell_type": "markdown",
   "id": "d00ada23",
   "metadata": {},
   "source": [
    "## Selected columns"
   ]
  },
  {
   "cell_type": "code",
   "execution_count": 5,
   "id": "f685717b",
   "metadata": {},
   "outputs": [
    {
     "name": "stdout",
     "output_type": "stream",
     "text": [
      "<class 'pandas.core.frame.DataFrame'>\n",
      "Float64Index: 62467843 entries, 0.0 to 0.54833984375\n",
      "Data columns (total 1 columns):\n",
      " #   Column  Dtype \n",
      "---  ------  ----- \n",
      " 0   file    object\n",
      "dtypes: object(1)\n",
      "memory usage: 953.2+ MB\n",
      "CPU times: total: 1min 52s\n",
      "Wall time: 2min 24s\n"
     ]
    }
   ],
   "source": [
    "%%time\n",
    "\n",
    "cols = [\"rain (mm/day)\",\"file\"]\n",
    "types = {'rain (mm/day)':'float16',\n",
    "        'file':'str'}\n",
    "df = pd.read_csv(os.path.join(output_directory, \"combined_data.csv\"),\n",
    "                 index_col=0, parse_dates=True, usecols=cols, dtype=types)\n",
    "df.info()"
   ]
  },
  {
   "cell_type": "markdown",
   "id": "e0b016b3",
   "metadata": {},
   "source": [
    "## Results:\n",
    "\n",
    "| Team Member          | Operating System | RAM (GB) | Processor                 | Is SSD | Time taken |\n",
    "| -------------------- | ---------------- | -------- | ------------------------- | ------ | ---------- |\n",
    "|  Reza Mirzazadeh |  |  |  |  |  |\n",
    "| Taiwo          |  |  |  |  |  |\n",
    "| Allyson Stoll         | MacOS BigSur     | 16    | 2.8GHz Intel Core i7         | Yes   | 1 min 22s   |\n",
    "| Ramiro Mejia          |  Windows Pro 10 x64   | 8     | Intel Core i5-9300H 2.40 GHz  | No    | 2 mins 7s |"
   ]
  },
  {
   "cell_type": "code",
   "execution_count": 6,
   "id": "8b874b03-a08c-4876-a575-3c6d8a61a36b",
   "metadata": {},
   "outputs": [
    {
     "name": "stdout",
     "output_type": "stream",
     "text": [
      "CPU times: total: 8.55 s\n",
      "Wall time: 10.2 s\n"
     ]
    },
    {
     "data": {
      "text/html": [
       "<div>\n",
       "<style scoped>\n",
       "    .dataframe tbody tr th:only-of-type {\n",
       "        vertical-align: middle;\n",
       "    }\n",
       "\n",
       "    .dataframe tbody tr th {\n",
       "        vertical-align: top;\n",
       "    }\n",
       "\n",
       "    .dataframe thead tr th {\n",
       "        text-align: left;\n",
       "    }\n",
       "\n",
       "    .dataframe thead tr:last-of-type th {\n",
       "        text-align: right;\n",
       "    }\n",
       "</style>\n",
       "<table border=\"1\" class=\"dataframe\">\n",
       "  <thead>\n",
       "    <tr>\n",
       "      <th></th>\n",
       "      <th colspan=\"8\" halign=\"left\">rain (mm/day)</th>\n",
       "    </tr>\n",
       "    <tr>\n",
       "      <th></th>\n",
       "      <th>count</th>\n",
       "      <th>mean</th>\n",
       "      <th>std</th>\n",
       "      <th>min</th>\n",
       "      <th>25%</th>\n",
       "      <th>50%</th>\n",
       "      <th>75%</th>\n",
       "      <th>max</th>\n",
       "    </tr>\n",
       "    <tr>\n",
       "      <th>file</th>\n",
       "      <th></th>\n",
       "      <th></th>\n",
       "      <th></th>\n",
       "      <th></th>\n",
       "      <th></th>\n",
       "      <th></th>\n",
       "      <th></th>\n",
       "      <th></th>\n",
       "    </tr>\n",
       "  </thead>\n",
       "  <tbody>\n",
       "    <tr>\n",
       "      <th>ACCESS-CM2</th>\n",
       "      <td>1932840.0</td>\n",
       "      <td>1.787023</td>\n",
       "      <td>5.914173</td>\n",
       "      <td>0.0</td>\n",
       "      <td>5.390167e-03</td>\n",
       "      <td>0.100281</td>\n",
       "      <td>0.727051</td>\n",
       "      <td>433.0000</td>\n",
       "    </tr>\n",
       "    <tr>\n",
       "      <th>ACCESS-ESM1-5</th>\n",
       "      <td>1610700.0</td>\n",
       "      <td>2.217500</td>\n",
       "      <td>6.422388</td>\n",
       "      <td>0.0</td>\n",
       "      <td>1.029015e-03</td>\n",
       "      <td>0.134521</td>\n",
       "      <td>1.314453</td>\n",
       "      <td>202.0000</td>\n",
       "    </tr>\n",
       "    <tr>\n",
       "      <th>AWI-ESM-1-1-LR</th>\n",
       "      <td>966420.0</td>\n",
       "      <td>2.026072</td>\n",
       "      <td>5.321893</td>\n",
       "      <td>0.0</td>\n",
       "      <td>0.000000e+00</td>\n",
       "      <td>0.044250</td>\n",
       "      <td>0.985352</td>\n",
       "      <td>89.4375</td>\n",
       "    </tr>\n",
       "    <tr>\n",
       "      <th>BCC-CSM2-MR</th>\n",
       "      <td>3035340.0</td>\n",
       "      <td>1.951832</td>\n",
       "      <td>6.200959</td>\n",
       "      <td>0.0</td>\n",
       "      <td>0.000000e+00</td>\n",
       "      <td>0.043213</td>\n",
       "      <td>0.984375</td>\n",
       "      <td>286.2500</td>\n",
       "    </tr>\n",
       "    <tr>\n",
       "      <th>BCC-ESM1</th>\n",
       "      <td>551880.0</td>\n",
       "      <td>1.811032</td>\n",
       "      <td>5.358356</td>\n",
       "      <td>0.0</td>\n",
       "      <td>0.000000e+00</td>\n",
       "      <td>0.010910</td>\n",
       "      <td>0.837402</td>\n",
       "      <td>164.0000</td>\n",
       "    </tr>\n",
       "    <tr>\n",
       "      <th>CMCC-CM2-HR4</th>\n",
       "      <td>3541230.0</td>\n",
       "      <td>2.279351</td>\n",
       "      <td>5.629971</td>\n",
       "      <td>0.0</td>\n",
       "      <td>1.562500e-02</td>\n",
       "      <td>0.268799</td>\n",
       "      <td>1.789062</td>\n",
       "      <td>224.1250</td>\n",
       "    </tr>\n",
       "    <tr>\n",
       "      <th>CMCC-CM2-SR5</th>\n",
       "      <td>3541230.0</td>\n",
       "      <td>2.383389</td>\n",
       "      <td>5.895953</td>\n",
       "      <td>0.0</td>\n",
       "      <td>4.634857e-03</td>\n",
       "      <td>0.217163</td>\n",
       "      <td>1.839844</td>\n",
       "      <td>202.8750</td>\n",
       "    </tr>\n",
       "    <tr>\n",
       "      <th>CMCC-ESM2</th>\n",
       "      <td>3541230.0</td>\n",
       "      <td>2.266125</td>\n",
       "      <td>5.538432</td>\n",
       "      <td>0.0</td>\n",
       "      <td>3.831863e-03</td>\n",
       "      <td>0.202881</td>\n",
       "      <td>1.773438</td>\n",
       "      <td>230.2500</td>\n",
       "    </tr>\n",
       "    <tr>\n",
       "      <th>CanESM5</th>\n",
       "      <td>551880.0</td>\n",
       "      <td>1.894324</td>\n",
       "      <td>5.835748</td>\n",
       "      <td>0.0</td>\n",
       "      <td>5.088806e-03</td>\n",
       "      <td>0.086365</td>\n",
       "      <td>1.021484</td>\n",
       "      <td>173.8750</td>\n",
       "    </tr>\n",
       "    <tr>\n",
       "      <th>EC-Earth3-Veg-LR</th>\n",
       "      <td>3037320.0</td>\n",
       "      <td>1.516259</td>\n",
       "      <td>4.714336</td>\n",
       "      <td>-0.0</td>\n",
       "      <td>-0.000000e+00</td>\n",
       "      <td>0.009804</td>\n",
       "      <td>0.666016</td>\n",
       "      <td>181.3750</td>\n",
       "    </tr>\n",
       "    <tr>\n",
       "      <th>FGOALS-f3-L</th>\n",
       "      <td>3219300.0</td>\n",
       "      <td>1.627373</td>\n",
       "      <td>5.747383</td>\n",
       "      <td>0.0</td>\n",
       "      <td>1.072884e-06</td>\n",
       "      <td>0.022171</td>\n",
       "      <td>0.633789</td>\n",
       "      <td>221.8750</td>\n",
       "    </tr>\n",
       "    <tr>\n",
       "      <th>FGOALS-g3</th>\n",
       "      <td>1287720.0</td>\n",
       "      <td>2.156419</td>\n",
       "      <td>6.015487</td>\n",
       "      <td>0.0</td>\n",
       "      <td>7.446289e-03</td>\n",
       "      <td>0.197266</td>\n",
       "      <td>1.360352</td>\n",
       "      <td>231.0000</td>\n",
       "    </tr>\n",
       "    <tr>\n",
       "      <th>GFDL-CM4</th>\n",
       "      <td>3219300.0</td>\n",
       "      <td>1.414485</td>\n",
       "      <td>5.024921</td>\n",
       "      <td>0.0</td>\n",
       "      <td>1.096725e-04</td>\n",
       "      <td>0.018845</td>\n",
       "      <td>0.454590</td>\n",
       "      <td>213.0000</td>\n",
       "    </tr>\n",
       "    <tr>\n",
       "      <th>GFDL-ESM4</th>\n",
       "      <td>0.0</td>\n",
       "      <td>NaN</td>\n",
       "      <td>NaN</td>\n",
       "      <td>NaN</td>\n",
       "      <td>NaN</td>\n",
       "      <td>NaN</td>\n",
       "      <td>NaN</td>\n",
       "      <td>NaN</td>\n",
       "    </tr>\n",
       "    <tr>\n",
       "      <th>INM-CM4-8</th>\n",
       "      <td>1609650.0</td>\n",
       "      <td>2.811463</td>\n",
       "      <td>6.266296</td>\n",
       "      <td>0.0</td>\n",
       "      <td>4.249573e-03</td>\n",
       "      <td>0.572266</td>\n",
       "      <td>2.857422</td>\n",
       "      <td>213.3750</td>\n",
       "    </tr>\n",
       "    <tr>\n",
       "      <th>INM-CM5-0</th>\n",
       "      <td>1609650.0</td>\n",
       "      <td>2.669014</td>\n",
       "      <td>6.534091</td>\n",
       "      <td>0.0</td>\n",
       "      <td>2.551079e-05</td>\n",
       "      <td>0.422607</td>\n",
       "      <td>2.439453</td>\n",
       "      <td>183.7500</td>\n",
       "    </tr>\n",
       "    <tr>\n",
       "      <th>KIOST-ESM</th>\n",
       "      <td>1287720.0</td>\n",
       "      <td>1.102351</td>\n",
       "      <td>3.852046</td>\n",
       "      <td>0.0</td>\n",
       "      <td>6.467104e-05</td>\n",
       "      <td>0.023483</td>\n",
       "      <td>0.519531</td>\n",
       "      <td>171.1250</td>\n",
       "    </tr>\n",
       "    <tr>\n",
       "      <th>MIROC6</th>\n",
       "      <td>2070900.0</td>\n",
       "      <td>2.301662</td>\n",
       "      <td>6.393745</td>\n",
       "      <td>0.0</td>\n",
       "      <td>3.511429e-03</td>\n",
       "      <td>0.133545</td>\n",
       "      <td>1.399414</td>\n",
       "      <td>226.5000</td>\n",
       "    </tr>\n",
       "    <tr>\n",
       "      <th>MPI-ESM-1-2-HAM</th>\n",
       "      <td>966420.0</td>\n",
       "      <td>1.610720</td>\n",
       "      <td>4.885517</td>\n",
       "      <td>0.0</td>\n",
       "      <td>0.000000e+00</td>\n",
       "      <td>0.000000</td>\n",
       "      <td>0.321533</td>\n",
       "      <td>94.2500</td>\n",
       "    </tr>\n",
       "    <tr>\n",
       "      <th>MPI-ESM1-2-HR</th>\n",
       "      <td>5154240.0</td>\n",
       "      <td>0.995569</td>\n",
       "      <td>4.083814</td>\n",
       "      <td>0.0</td>\n",
       "      <td>0.000000e+00</td>\n",
       "      <td>0.000000</td>\n",
       "      <td>0.123657</td>\n",
       "      <td>166.0000</td>\n",
       "    </tr>\n",
       "    <tr>\n",
       "      <th>MPI-ESM1-2-LR</th>\n",
       "      <td>966420.0</td>\n",
       "      <td>1.074307</td>\n",
       "      <td>3.911690</td>\n",
       "      <td>0.0</td>\n",
       "      <td>0.000000e+00</td>\n",
       "      <td>0.000000</td>\n",
       "      <td>0.178345</td>\n",
       "      <td>83.9375</td>\n",
       "    </tr>\n",
       "    <tr>\n",
       "      <th>MRI-ESM2-0</th>\n",
       "      <td>3037320.0</td>\n",
       "      <td>1.368030</td>\n",
       "      <td>4.517986</td>\n",
       "      <td>0.0</td>\n",
       "      <td>5.960464e-08</td>\n",
       "      <td>0.004738</td>\n",
       "      <td>0.458008</td>\n",
       "      <td>156.0000</td>\n",
       "    </tr>\n",
       "    <tr>\n",
       "      <th>NESM3</th>\n",
       "      <td>966420.0</td>\n",
       "      <td>1.621936</td>\n",
       "      <td>4.971972</td>\n",
       "      <td>0.0</td>\n",
       "      <td>0.000000e+00</td>\n",
       "      <td>0.006626</td>\n",
       "      <td>0.505371</td>\n",
       "      <td>113.9375</td>\n",
       "    </tr>\n",
       "    <tr>\n",
       "      <th>NorESM2-LM</th>\n",
       "      <td>919800.0</td>\n",
       "      <td>2.230799</td>\n",
       "      <td>5.681568</td>\n",
       "      <td>0.0</td>\n",
       "      <td>3.757477e-04</td>\n",
       "      <td>0.092834</td>\n",
       "      <td>1.479492</td>\n",
       "      <td>131.3750</td>\n",
       "    </tr>\n",
       "    <tr>\n",
       "      <th>NorESM2-MM</th>\n",
       "      <td>3541230.0</td>\n",
       "      <td>2.232965</td>\n",
       "      <td>6.151682</td>\n",
       "      <td>0.0</td>\n",
       "      <td>4.057884e-04</td>\n",
       "      <td>0.081848</td>\n",
       "      <td>1.348633</td>\n",
       "      <td>263.7500</td>\n",
       "    </tr>\n",
       "    <tr>\n",
       "      <th>SAM0-UNICON</th>\n",
       "      <td>3541153.0</td>\n",
       "      <td>2.169676</td>\n",
       "      <td>6.383242</td>\n",
       "      <td>0.0</td>\n",
       "      <td>1.054406e-04</td>\n",
       "      <td>0.064453</td>\n",
       "      <td>1.222656</td>\n",
       "      <td>208.2500</td>\n",
       "    </tr>\n",
       "    <tr>\n",
       "      <th>TaiESM1</th>\n",
       "      <td>3541230.0</td>\n",
       "      <td>2.224575</td>\n",
       "      <td>5.886574</td>\n",
       "      <td>0.0</td>\n",
       "      <td>1.763344e-03</td>\n",
       "      <td>0.116699</td>\n",
       "      <td>1.458008</td>\n",
       "      <td>200.5000</td>\n",
       "    </tr>\n",
       "  </tbody>\n",
       "</table>\n",
       "</div>"
      ],
      "text/plain": [
       "                 rain (mm/day)                                         \\\n",
       "                         count      mean       std  min           25%   \n",
       "file                                                                    \n",
       "ACCESS-CM2           1932840.0  1.787023  5.914173  0.0  5.390167e-03   \n",
       "ACCESS-ESM1-5        1610700.0  2.217500  6.422388  0.0  1.029015e-03   \n",
       "AWI-ESM-1-1-LR        966420.0  2.026072  5.321893  0.0  0.000000e+00   \n",
       "BCC-CSM2-MR          3035340.0  1.951832  6.200959  0.0  0.000000e+00   \n",
       "BCC-ESM1              551880.0  1.811032  5.358356  0.0  0.000000e+00   \n",
       "CMCC-CM2-HR4         3541230.0  2.279351  5.629971  0.0  1.562500e-02   \n",
       "CMCC-CM2-SR5         3541230.0  2.383389  5.895953  0.0  4.634857e-03   \n",
       "CMCC-ESM2            3541230.0  2.266125  5.538432  0.0  3.831863e-03   \n",
       "CanESM5               551880.0  1.894324  5.835748  0.0  5.088806e-03   \n",
       "EC-Earth3-Veg-LR     3037320.0  1.516259  4.714336 -0.0 -0.000000e+00   \n",
       "FGOALS-f3-L          3219300.0  1.627373  5.747383  0.0  1.072884e-06   \n",
       "FGOALS-g3            1287720.0  2.156419  6.015487  0.0  7.446289e-03   \n",
       "GFDL-CM4             3219300.0  1.414485  5.024921  0.0  1.096725e-04   \n",
       "GFDL-ESM4                  0.0       NaN       NaN  NaN           NaN   \n",
       "INM-CM4-8            1609650.0  2.811463  6.266296  0.0  4.249573e-03   \n",
       "INM-CM5-0            1609650.0  2.669014  6.534091  0.0  2.551079e-05   \n",
       "KIOST-ESM            1287720.0  1.102351  3.852046  0.0  6.467104e-05   \n",
       "MIROC6               2070900.0  2.301662  6.393745  0.0  3.511429e-03   \n",
       "MPI-ESM-1-2-HAM       966420.0  1.610720  4.885517  0.0  0.000000e+00   \n",
       "MPI-ESM1-2-HR        5154240.0  0.995569  4.083814  0.0  0.000000e+00   \n",
       "MPI-ESM1-2-LR         966420.0  1.074307  3.911690  0.0  0.000000e+00   \n",
       "MRI-ESM2-0           3037320.0  1.368030  4.517986  0.0  5.960464e-08   \n",
       "NESM3                 966420.0  1.621936  4.971972  0.0  0.000000e+00   \n",
       "NorESM2-LM            919800.0  2.230799  5.681568  0.0  3.757477e-04   \n",
       "NorESM2-MM           3541230.0  2.232965  6.151682  0.0  4.057884e-04   \n",
       "SAM0-UNICON          3541153.0  2.169676  6.383242  0.0  1.054406e-04   \n",
       "TaiESM1              3541230.0  2.224575  5.886574  0.0  1.763344e-03   \n",
       "\n",
       "                                                \n",
       "                       50%       75%       max  \n",
       "file                                            \n",
       "ACCESS-CM2        0.100281  0.727051  433.0000  \n",
       "ACCESS-ESM1-5     0.134521  1.314453  202.0000  \n",
       "AWI-ESM-1-1-LR    0.044250  0.985352   89.4375  \n",
       "BCC-CSM2-MR       0.043213  0.984375  286.2500  \n",
       "BCC-ESM1          0.010910  0.837402  164.0000  \n",
       "CMCC-CM2-HR4      0.268799  1.789062  224.1250  \n",
       "CMCC-CM2-SR5      0.217163  1.839844  202.8750  \n",
       "CMCC-ESM2         0.202881  1.773438  230.2500  \n",
       "CanESM5           0.086365  1.021484  173.8750  \n",
       "EC-Earth3-Veg-LR  0.009804  0.666016  181.3750  \n",
       "FGOALS-f3-L       0.022171  0.633789  221.8750  \n",
       "FGOALS-g3         0.197266  1.360352  231.0000  \n",
       "GFDL-CM4          0.018845  0.454590  213.0000  \n",
       "GFDL-ESM4              NaN       NaN       NaN  \n",
       "INM-CM4-8         0.572266  2.857422  213.3750  \n",
       "INM-CM5-0         0.422607  2.439453  183.7500  \n",
       "KIOST-ESM         0.023483  0.519531  171.1250  \n",
       "MIROC6            0.133545  1.399414  226.5000  \n",
       "MPI-ESM-1-2-HAM   0.000000  0.321533   94.2500  \n",
       "MPI-ESM1-2-HR     0.000000  0.123657  166.0000  \n",
       "MPI-ESM1-2-LR     0.000000  0.178345   83.9375  \n",
       "MRI-ESM2-0        0.004738  0.458008  156.0000  \n",
       "NESM3             0.006626  0.505371  113.9375  \n",
       "NorESM2-LM        0.092834  1.479492  131.3750  \n",
       "NorESM2-MM        0.081848  1.348633  263.7500  \n",
       "SAM0-UNICON       0.064453  1.222656  208.2500  \n",
       "TaiESM1           0.116699  1.458008  200.5000  "
      ]
     },
     "execution_count": 6,
     "metadata": {},
     "output_type": "execute_result"
    }
   ],
   "source": [
    "%%time\n",
    "\n",
    "df.reset_index().groupby('file').describe()"
   ]
  },
  {
   "cell_type": "markdown",
   "id": "9ace5862-d4b4-4bd0-8c77-f42b06c34b5d",
   "metadata": {},
   "source": [
    "## Results:\n",
    "\n",
    "| Team Member          | Operating System | RAM (GB) | Processor                 | Is SSD | Time taken |\n",
    "| -------------------- | ---------------- | -------- | ------------------------- | ------ | ---------- |\n",
    "|  Reza Mirzazadeh |  |  |  |  |  |\n",
    "| Taiwo          |  |  |  |  |  |\n",
    "| Allyson Stoll         | MacOS BigSur     | 16    | 2.8GHz Intel Core i7         | Yes   | 8.45s      |\n",
    "| Ramiro Mejia          |  Windows Pro 10 x64   | 8     | Intel Core i5-9300H 2.40 GHz                | No    |   18s  |"
   ]
  },
  {
   "cell_type": "markdown",
   "id": "46362bee",
   "metadata": {},
   "source": [
    "## Chunks"
   ]
  },
  {
   "cell_type": "code",
   "execution_count": 7,
   "id": "769e75b5",
   "metadata": {},
   "outputs": [
    {
     "name": "stdout",
     "output_type": "stream",
     "text": [
      "ACCESS-CM2          1932840\n",
      "ACCESS-ESM1-5       1610700\n",
      "AWI-ESM-1-1-LR       966420\n",
      "BCC-CSM2-MR         3035340\n",
      "BCC-ESM1             551880\n",
      "CMCC-CM2-HR4        3541230\n",
      "CMCC-CM2-SR5        3541230\n",
      "CMCC-ESM2           3541230\n",
      "CanESM5              551880\n",
      "EC-Earth3-Veg-LR    3037320\n",
      "FGOALS-f3-L         3219300\n",
      "FGOALS-g3           1287720\n",
      "GFDL-CM4            3219300\n",
      "GFDL-ESM4           3219300\n",
      "INM-CM4-8           1609650\n",
      "INM-CM5-0           1609650\n",
      "KIOST-ESM           1287720\n",
      "MIROC6              2070900\n",
      "MPI-ESM-1-2-HAM      966420\n",
      "MPI-ESM1-2-HR       5154240\n",
      "MPI-ESM1-2-LR        966420\n",
      "MRI-ESM2-0          3037320\n",
      "NESM3                966420\n",
      "NorESM2-LM           919800\n",
      "NorESM2-MM          3541230\n",
      "SAM0-UNICON         3541153\n",
      "TaiESM1             3541230\n",
      "dtype: int32\n",
      "CPU times: total: 1min 28s\n",
      "Wall time: 2min 9s\n"
     ]
    }
   ],
   "source": [
    "%%time\n",
    "\n",
    "counts = pd.Series(dtype=int)\n",
    "for chunk in pd.read_csv(os.path.join(output_directory, \"combined_data.csv\"), chunksize=100_000):\n",
    "    counts = counts.add(chunk[\"file\"].value_counts(), fill_value=0)\n",
    "print(counts.astype(int))"
   ]
  },
  {
   "cell_type": "markdown",
   "id": "ebda0101-aab0-48b7-a4ae-6007468c21b6",
   "metadata": {},
   "source": [
    "## Results:\n",
    "\n",
    "| Team Member          | Operating System | RAM (GB) | Processor                 | Is SSD | Time taken |\n",
    "| -------------------- | ---------------- | -------- | ------------------------- | ------ | ---------- |\n",
    "|  Reza Mirzazadeh |  |  |  |  |\n",
    "| Taiwo          |  |  |  |  |  |\n",
    "| Allyson Stoll         | MacOS BigSur     | 16    | 2.8GHz Intel Core i7         | Yes   | 1 min 1s   |\n",
    "| Ramiro Mejia          | Windows 10 Pro x64   | 8     | Intel Core i5-9300H 2.40 GHz             | No    | 4 mins 40s |"
   ]
  },
  {
   "cell_type": "markdown",
   "id": "80447c6a-1303-4858-8978-07f1e93e25bb",
   "metadata": {},
   "source": [
    "## Transfer files to R"
   ]
  },
  {
   "cell_type": "code",
   "execution_count": 8,
   "id": "280dedf7-67c3-4547-ae32-a79bc8f59c06",
   "metadata": {},
   "outputs": [],
   "source": [
    "# setting up the envinroment to be able to run py2R\n",
    "\n",
    "#os.environ['R_HOME'] = 'C:/Program Files/R/R-4.1.1'"
   ]
  },
  {
   "cell_type": "code",
   "execution_count": 9,
   "id": "228396fe-7c1a-4d82-bebf-def11d43bbc7",
   "metadata": {},
   "outputs": [
    {
     "name": "stderr",
     "output_type": "stream",
     "text": [
      "C:\\Users\\ramir\\.conda\\envs\\525_2022\\lib\\site-packages\\rpy2\\robjects\\packages.py:366: UserWarning: The symbol 'quartz' is not in this R namespace/package.\n",
      "  warnings.warn(\n"
     ]
    }
   ],
   "source": [
    "%load_ext rpy2.ipython"
   ]
  },
  {
   "cell_type": "code",
   "execution_count": 10,
   "id": "96afbbb4-79ef-48bc-a55f-6cd59e623f6e",
   "metadata": {},
   "outputs": [],
   "source": [
    "df = pd.read_csv(os.path.join(output_directory, \"combined_data.csv\"), nrows=1_000_000)"
   ]
  },
  {
   "cell_type": "code",
   "execution_count": 11,
   "id": "419bb43a-b906-4601-a5e9-aa2943390316",
   "metadata": {},
   "outputs": [
    {
     "name": "stdout",
     "output_type": "stream",
     "text": [
      "        file       n\n",
      "1 ACCESS-CM2 1000000\n",
      "Time difference of 4.77336 secs\n",
      "CPU times: total: 35.6 s\n",
      "Wall time: 41.4 s\n"
     ]
    }
   ],
   "source": [
    "%%time\n",
    "%%R -i df\n",
    "start_time <- Sys.time()\n",
    "suppressMessages(library(dplyr))\n",
    "result <- df %>% count(file)\n",
    "print(result)\n",
    "end_time <- Sys.time()\n",
    "print(end_time - start_time)"
   ]
  },
  {
   "cell_type": "markdown",
   "id": "f504198c",
   "metadata": {},
   "source": [
    "## Results:\n",
    "\n",
    "| Team Member          | Operating System | RAM (GB) | Processor                 | Is SSD | Time taken |\n",
    "| -------------------- | ---------------- | -------- | ------------------------- | ------ | ---------- |\n",
    "|  Reza Mirzazadeh |  |  |  |  |\n",
    "| Taiwo          |  |  |  |  |  |\n",
    "| Allyson Stoll         | MacOS BigSur     | 16    | 2.8GHz Intel Core i7         | Yes   | 1 min 1s   |\n",
    "| Ramiro Mejia          | Windows 10 Pro x64   | 8     | Intel Core i5-9300H 2.40 GHz             | No    | 1 mins 40s |"
   ]
  },
  {
   "cell_type": "markdown",
   "id": "3ad622fa",
   "metadata": {},
   "source": [
    "## Simple EDA in R\n",
    "\n",
    "Parquet was selected as it is language agnostic and should provide excellent file size reduction. It is also partitionable, so we can select only the information we want to do EDA."
   ]
  },
  {
   "cell_type": "code",
   "execution_count": null,
   "id": "1569efb5-ffc5-4464-b7e8-03d3f24bba2f",
   "metadata": {},
   "outputs": [],
   "source": [
    "%%time\n",
    "\n",
    "data.to_parquet(os.path.join(output_directory, \"combined_data.parquet\"))\n",
    "data.to_parquet(os.path.join(output_directory, \"combined_data_partition.parquet\"), partition_cols=['file'])"
   ]
  },
  {
   "cell_type": "markdown",
   "id": "62aaab2c-0891-4a9e-9247-c107d427fde5",
   "metadata": {},
   "source": [
    "## Results:\n",
    "\n",
    "| Team Member          | Operating System | RAM (GB) | Processor                 | Is SSD | Time taken |\n",
    "| -------------------- | ---------------- | -------- | ------------------------- | ------ | ---------- |\n",
    "|  Reza Mirzazadeh |  |  |  |  |\n",
    "| Taiwo          |  |  |  |  |  |\n",
    "| Allyson Stoll         | MacOS BigSur     | 16    | 2.8GHz Intel Core i7         | Yes   | 1min 1s    |\n",
    "| Ramiro Mejia          |Windows 10 Pro x64    | 8     | Intel Core i5-9300H 2.40 GHz                | No    |   8min 5s   |"
   ]
  },
  {
   "cell_type": "code",
   "execution_count": 12,
   "id": "1d0b52a0-dfbc-4400-9826-9264e7216c9e",
   "metadata": {},
   "outputs": [
    {
     "name": "stdout",
     "output_type": "stream",
     "text": [
      "5.7G\tdata/combined_data.csv\n",
      "542M\tdata/combined_data.parquet\n",
      "550M\tdata/combined_data_partition.parquet\n"
     ]
    }
   ],
   "source": [
    "%%sh\n",
    "# I am just seeing the size of the csv data\n",
    "du -sh data/combined_data.csv\n",
    "\n",
    "# I am just seeing the size of the parquet data\n",
    "du -sh data/combined_data.parquet\n",
    "\n",
    "# I am just seeing the size of the partitioned parquet data\n",
    "du -sh data/combined_data_partition.parquet"
   ]
  },
  {
   "cell_type": "code",
   "execution_count": 13,
   "id": "dc1ece77-d2ba-4b2c-b3d0-7869f0db7f2b",
   "metadata": {},
   "outputs": [
    {
     "name": "stdout",
     "output_type": "stream",
     "text": [
      "The rpy2.ipython extension is already loaded. To reload it, use:\n",
      "  %reload_ext rpy2.ipython\n"
     ]
    }
   ],
   "source": [
    "%load_ext rpy2.ipython"
   ]
  },
  {
   "cell_type": "code",
   "execution_count": 14,
   "id": "e0496899-113e-4441-8bd3-733e9bec1761",
   "metadata": {},
   "outputs": [
    {
     "name": "stderr",
     "output_type": "stream",
     "text": [
      "R[write to console]: \n",
      "Attaching package: 'arrow'\n",
      "\n",
      "\n",
      "R[write to console]: The following object is masked from 'package:utils':\n",
      "\n",
      "    timestamp\n",
      "\n",
      "\n",
      "R[write to console]: `stat_bin()` using `bins = 30`. Pick better value with `binwidth`.\n",
      "\n"
     ]
    },
    {
     "data": {
      "image/png": "[encoded data removed]"
     },
     "metadata": {},
     "output_type": "display_data"
    },
    {
     "name": "stdout",
     "output_type": "stream",
     "text": [
      "CPU times: total: 21.2 s\n",
      "Wall time: 37.8 s\n"
     ]
    }
   ],
   "source": [
    "%%time\n",
    "%%R\n",
    "\n",
    "library(dplyr)\n",
    "library(arrow)\n",
    "library(ggplot2)\n",
    "\n",
    "data <- open_dataset(\"data/combined_data.parquet\") |>\n",
    "    select(\"rain (mm/day)\", \"file\") |>\n",
    "    rename(\"rain\" = \"rain (mm/day)\") |>\n",
    "    collect()\n",
    "\n",
    "# set seed and reduce dataset size for ggplot\n",
    "set.seed(8675309)\n",
    "data <- data |> sample_frac(0.5)\n",
    "\n",
    "data$file <- as.factor(data$file)\n",
    "\n",
    "# set seed and select 4 random file names for comparison\n",
    "set.seed(8675309)\n",
    "file_list <- sample(unique(data$file), 4)\n",
    "\n",
    "data <- data |>\n",
    "    filter(file %in% file_list)\n",
    "\n",
    "# Histogram with kernel density\n",
    "ggplot(data, aes(x = rain)) + \n",
    "   geom_histogram(aes(y = ..density..),\n",
    "                  colour = 1, fill = \"white\") +\n",
    "    geom_density(colour = 'darkgreen',\n",
    "                 fill = 'darkgreen',\n",
    "                 alpha = 0.4) +\n",
    "    facet_wrap(~file)"
   ]
  },
  {
   "cell_type": "code",
   "execution_count": 15,
   "id": "e9473182-7b4d-470d-8169-6932fb83fe76",
   "metadata": {},
   "outputs": [
    {
     "data": {
      "image/png": "[encoded data removed]"
     },
     "metadata": {},
     "output_type": "display_data"
    },
    {
     "name": "stdout",
     "output_type": "stream",
     "text": [
      "CPU times: total: 1.53 s\n",
      "Wall time: 1.64 s\n"
     ]
    }
   ],
   "source": [
    "%%time \n",
    "%%R\n",
    "\n",
    "## count of records\n",
    "\n",
    "ggplot(data, aes(x = file, fill=file)) +\n",
    "    geom_bar(stat = 'count') + \n",
    "labs(\n",
    "title = 'Number of rows per file',\n",
    "x = 'File',\n",
    "y = 'Number of Rows')"
   ]
  },
  {
   "cell_type": "markdown",
   "id": "b332012b-ebfb-4ad1-b7fc-4e235ffe21dc",
   "metadata": {},
   "source": [
    "## Results:\n",
    "\n",
    "| Team Member          | Operating System | RAM (GB) | Processor                 | Is SSD | Time taken |\n",
    "| -------------------- | ---------------- | -------- | ------------------------- | ------ | ---------- |\n",
    "|  Reza Mirzazadeh |  |  |  |  |\n",
    "| Taiwo          |  |  |  |  |  |\n",
    "| Allyson Stoll         | MacOS BigSur     | 16    | 2.8GHz Intel Core i7         | Yes   |    |\n",
    "| Ramiro Mejia          | Windows 10 x64   | 8     |  Intel Core i5-9300H 2.40 GHz             | No    |5s      |"
   ]
  },
  {
   "cell_type": "markdown",
   "id": "61026c5b-2e4a-422f-a87a-860cbb7d46d5",
   "metadata": {},
   "source": [
    "## Final Discussion\n",
    "\n",
    "- Running a with 8GB of RAM can be a computationally expensive task for the computer. File partitioning and parquet files offer a great advantage over regular methods."
   ]
  }
 ],
 "metadata": {
  "kernelspec": {
   "display_name": "Python [conda env:.conda-525_2022]",
   "language": "python",
   "name": "conda-env-.conda-525_2022-py"
  },
  "language_info": {
   "codemirror_mode": {
    "name": "ipython",
    "version": 3
   },
   "file_extension": ".py",
   "mimetype": "text/x-python",
   "name": "python",
   "nbconvert_exporter": "python",
   "pygments_lexer": "ipython3",
   "version": "3.8.6"
  }
 },
 "nbformat": 4,
 "nbformat_minor": 5
}
