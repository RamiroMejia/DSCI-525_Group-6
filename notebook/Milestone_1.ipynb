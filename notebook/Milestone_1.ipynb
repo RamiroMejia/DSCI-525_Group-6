{
 "cells": [
  {
   "cell_type": "code",
   "execution_count": 1,
   "id": "4be72178",
   "metadata": {},
   "outputs": [],
   "source": [
    "import re\n",
    "import os\n",
    "import glob\n",
    "import zipfile\n",
    "import requests\n",
    "from urllib.request import urlretrieve\n",
    "import json\n",
    "import shutil\n",
    "import pandas as pd"
   ]
  },
  {
   "cell_type": "code",
   "execution_count": 2,
   "id": "28816e2e",
   "metadata": {},
   "outputs": [
    {
     "name": "stdout",
     "output_type": "stream",
     "text": [
      "/Users/allyson/School/Block-6/Labs/DSCI-525_Group-6/notebook\n"
     ]
    }
   ],
   "source": [
    "%cd /Users/allyson/School/Block-6/Labs/DSCI-525_Group-6/notebook"
   ]
  },
  {
   "cell_type": "code",
   "execution_count": 3,
   "id": "a91e2315",
   "metadata": {},
   "outputs": [
    {
     "data": {
      "text/plain": [
       "[{'id': 26579150,\n",
       "  'name': 'daily_rainfall_2014.png',\n",
       "  'size': 58863,\n",
       "  'is_link_only': False,\n",
       "  'download_url': 'https://ndownloader.figshare.com/files/26579150',\n",
       "  'supplied_md5': 'fd32a2ffde300a31f8d63b1825d47e5e',\n",
       "  'computed_md5': 'fd32a2ffde300a31f8d63b1825d47e5e'},\n",
       " {'id': 26579171,\n",
       "  'name': 'environment.yml',\n",
       "  'size': 192,\n",
       "  'is_link_only': False,\n",
       "  'download_url': 'https://ndownloader.figshare.com/files/26579171',\n",
       "  'supplied_md5': '060b2020017eed93a1ee7dd8c65b2f34',\n",
       "  'computed_md5': '060b2020017eed93a1ee7dd8c65b2f34'},\n",
       " {'id': 26586554,\n",
       "  'name': 'README.md',\n",
       "  'size': 5422,\n",
       "  'is_link_only': False,\n",
       "  'download_url': 'https://ndownloader.figshare.com/files/26586554',\n",
       "  'supplied_md5': '61858c6cc0e6a6d6663a7e4c75bbd88c',\n",
       "  'computed_md5': '61858c6cc0e6a6d6663a7e4c75bbd88c'},\n",
       " {'id': 26766812,\n",
       "  'name': 'data.zip',\n",
       "  'size': 814041183,\n",
       "  'is_link_only': False,\n",
       "  'download_url': 'https://ndownloader.figshare.com/files/26766812',\n",
       "  'supplied_md5': 'b517383f76e77bd03755a63a8ff83ee9',\n",
       "  'computed_md5': 'b517383f76e77bd03755a63a8ff83ee9'},\n",
       " {'id': 26766815,\n",
       "  'name': 'get_data.py',\n",
       "  'size': 4113,\n",
       "  'is_link_only': False,\n",
       "  'download_url': 'https://ndownloader.figshare.com/files/26766815',\n",
       "  'supplied_md5': '7829028495fd9dec9680ea013474afa6',\n",
       "  'computed_md5': '7829028495fd9dec9680ea013474afa6'}]"
      ]
     },
     "execution_count": 3,
     "metadata": {},
     "output_type": "execute_result"
    }
   ],
   "source": [
    "# Downloading data \n",
    "article_id = 14096681 \n",
    "url = f\"https://api.figshare.com/v2/articles/{article_id}\"\n",
    "headers = {\"Content-Type\": \"application/json\"}\n",
    "#output\n",
    "output_directory = \"data/\"\n",
    "response = requests.request(\"GET\", url, headers=headers)\n",
    "data = json.loads(response.text)  \n",
    "files = data[\"files\"]             \n",
    "files"
   ]
  },
  {
   "cell_type": "code",
   "execution_count": 4,
   "id": "2e231110",
   "metadata": {},
   "outputs": [
    {
     "name": "stdout",
     "output_type": "stream",
     "text": [
      "CPU times: user 2.65 s, sys: 2.55 s, total: 5.2 s\n",
      "Wall time: 47.6 s\n"
     ]
    }
   ],
   "source": [
    "%%time\n",
    "\n",
    "if os.path.exists(f\"{output_directory}'data.zip'\"):\n",
    "    print(\"file exists\")\n",
    "\n",
    "else:\n",
    "    files_to_dl = [\"data.zip\"]  \n",
    "    for file in files:\n",
    "        if file[\"name\"] in files_to_dl:\n",
    "            os.makedirs(output_directory, exist_ok=True)\n",
    "            urlretrieve(file[\"download_url\"], output_directory + file[\"name\"])"
   ]
  },
  {
   "cell_type": "markdown",
   "id": "d1d295f4",
   "metadata": {},
   "source": [
    "## Results:\n",
    "\n",
    "| Team Member          | Operating System | RAM (GB) | Processor                 | Is SSD | Time taken |\n",
    "| -------------------- | ---------------- | -------- | ------------------------- | ------ | ---------- |\n",
    "|  Reza |  |  |  |  |  |\n",
    "| Taiwo          |  |  |  |  |  |\n",
    "| Allyson Stoll        | MacOS BigSur     | 16    | 2.8GHz Intel Core i7         | Yes   | 5.69s      |\n",
    "| Ramiro               | Windows 10 x64   | 8     | Intel Core i5                | No    | 3 mins 17s |"
   ]
  },
  {
   "cell_type": "code",
   "execution_count": 5,
   "id": "ba4781c4",
   "metadata": {},
   "outputs": [
    {
     "name": "stdout",
     "output_type": "stream",
     "text": [
      "CPU times: user 14.3 s, sys: 2.5 s, total: 16.8 s\n",
      "Wall time: 17.1 s\n"
     ]
    }
   ],
   "source": [
    "%%time\n",
    "with zipfile.ZipFile(os.path.join(output_directory, \"data.zip\"), 'r') as f:\n",
    "    f.extractall(output_directory)"
   ]
  },
  {
   "cell_type": "markdown",
   "id": "07a87ada",
   "metadata": {},
   "source": [
    "## Results:\n",
    "\n",
    "| Team Member          | Operating System | RAM (GB) | Processor                 | Is SSD | Time taken |\n",
    "| -------------------- | ---------------- | -------- | ------------------------- | ------ | ---------- |\n",
    "|  Reza Mirzazadeh |  |  |  |  |  |\n",
    "| Taiwo          |  |  |  |  |  |\n",
    "| Allyson Stoll        | MacOS BigSur     | 16    | 2.8GHz Intel Core i7         | Yes   | 16.4s      |\n",
    "| Ramiro Mejia         | Windows 10 x64   | 8     | Intel Core i5                | No    | 2 mins 10s |"
   ]
  },
  {
   "cell_type": "code",
   "execution_count": 6,
   "id": "5b3377c5",
   "metadata": {},
   "outputs": [
    {
     "name": "stdout",
     "output_type": "stream",
     "text": [
      "ACCESS-CM2_daily_rainfall_NSW.csv\n",
      "ACCESS-ESM1-5_daily_rainfall_NSW.csv\n",
      "AWI-ESM-1-1-LR_daily_rainfall_NSW.csv\n",
      "BCC-CSM2-MR_daily_rainfall_NSW.csv\n",
      "BCC-ESM1_daily_rainfall_NSW.csv\n",
      "CMCC-CM2-HR4_daily_rainfall_NSW.csv\n",
      "CMCC-CM2-SR5_daily_rainfall_NSW.csv\n",
      "CMCC-ESM2_daily_rainfall_NSW.csv\n",
      "CanESM5_daily_rainfall_NSW.csv\n",
      "EC-Earth3-Veg-LR_daily_rainfall_NSW.csv\n",
      "FGOALS-f3-L_daily_rainfall_NSW.csv\n",
      "FGOALS-g3_daily_rainfall_NSW.csv\n",
      "GFDL-CM4_daily_rainfall_NSW.csv\n",
      "GFDL-ESM4_daily_rainfall_NSW.csv\n",
      "INM-CM4-8_daily_rainfall_NSW.csv\n",
      "INM-CM5-0_daily_rainfall_NSW.csv\n",
      "KIOST-ESM_daily_rainfall_NSW.csv\n",
      "MIROC6_daily_rainfall_NSW.csv\n",
      "MPI-ESM-1-2-HAM_daily_rainfall_NSW.csv\n",
      "MPI-ESM1-2-HR_daily_rainfall_NSW.csv\n",
      "MPI-ESM1-2-LR_daily_rainfall_NSW.csv\n",
      "MRI-ESM2-0_daily_rainfall_NSW.csv\n",
      "NESM3_daily_rainfall_NSW.csv\n",
      "NorESM2-LM_daily_rainfall_NSW.csv\n",
      "NorESM2-MM_daily_rainfall_NSW.csv\n",
      "SAM0-UNICON_daily_rainfall_NSW.csv\n",
      "TaiESM1_daily_rainfall_NSW.csv\n",
      "\u001b[1m\u001b[34m__MACOSX\u001b[m\u001b[m/\n",
      "data.zip\n",
      "observed_daily_rainfall_SYD.csv\n"
     ]
    }
   ],
   "source": [
    "%ls data"
   ]
  },
  {
   "cell_type": "code",
   "execution_count": 7,
   "id": "2c7a7202",
   "metadata": {},
   "outputs": [],
   "source": [
    "# moving/excluding observed rain_fall to another folder \n",
    "\n",
    "observed_rain_fall = 'observed_daily_rainfall_SYD.csv'\n",
    "\n",
    "os.makedirs(os.path.join(output_directory, 'observed_daily_rainfall_SYD'), exist_ok=True)\n",
    "\n",
    "if os.path.exists(os.path.join(output_directory, observed_rain_fall)):\n",
    "    shutil.move(os.path.join(output_directory, observed_rain_fall), os.path.join(output_directory, 'observed_daily_rainfall_SYD/', observed_rain_fall))"
   ]
  },
  {
   "cell_type": "markdown",
   "id": "087dcf5d",
   "metadata": {},
   "source": [
    "#### 1. Combine data CSVs into a single CSV using pandas."
   ]
  },
  {
   "cell_type": "code",
   "execution_count": 8,
   "id": "3341ec6d",
   "metadata": {},
   "outputs": [
    {
     "name": "stdout",
     "output_type": "stream",
     "text": [
      "CPU times: user 6min 48s, sys: 13.3 s, total: 7min 1s\n",
      "Wall time: 7min 4s\n"
     ]
    }
   ],
   "source": [
    "%%time\n",
    "\n",
    "files = glob.glob(f\"{output_directory}/*.csv\")\n",
    "                  \n",
    "df = pd.concat((pd.read_csv(file, index_col=0, parse_dates=True)\n",
    "                .assign(file=re.findall(r'(?<=\\/)(.*)(?=_daily)', file)[0])\n",
    "                for file in files)\n",
    "              )\n",
    "\n",
    "df.to_csv(os.path.join(output_directory, \"combined_data.csv\"))"
   ]
  },
  {
   "cell_type": "markdown",
   "id": "f447e117-ccfb-45cd-8dc0-f41d05cac656",
   "metadata": {
    "tags": []
   },
   "source": [
    "## Results:\n",
    "\n",
    "| Team Member          | Operating System | RAM (GB) | Processor                 | Is SSD | Time taken |\n",
    "| -------------------- | ---------------- | -------- | ------------------------- | ------ | ---------- |\n",
    "|  Reza Mirzazadeh |  |  |  |  |  |\n",
    "| Taiwo          |  |  |  |  |  |\n",
    "| Allyson Stoll         | MacOS BigSur     | 16    | 2.8GHz Intel Core i7         | Yes   | 7 mins 9s  |\n",
    "| Ramiro Mejia          | Windows 10 x64   | 8     | Intel Core i5                | No    | 9 mins 19s |\n",
    "\n",
    "# Load the CSV into memory and complete simple EDA"
   ]
  },
  {
   "cell_type": "code",
   "execution_count": 9,
   "id": "27e6e1ea",
   "metadata": {},
   "outputs": [
    {
     "name": "stdout",
     "output_type": "stream",
     "text": [
      "<class 'pandas.core.frame.DataFrame'>\n",
      "DatetimeIndex: 62467843 entries, 1889-01-01 12:00:00 to 2014-12-31 12:00:00\n",
      "Data columns (total 6 columns):\n",
      " #   Column         Dtype  \n",
      "---  ------         -----  \n",
      " 0   lat_min        float64\n",
      " 1   lat_max        float64\n",
      " 2   lon_min        float64\n",
      " 3   lon_max        float64\n",
      " 4   rain (mm/day)  float64\n",
      " 5   file           object \n",
      "dtypes: float64(5), object(1)\n",
      "memory usage: 3.3+ GB\n",
      "CPU times: user 57.2 s, sys: 11.2 s, total: 1min 8s\n",
      "Wall time: 1min 10s\n"
     ]
    }
   ],
   "source": [
    "%%time\n",
    "data = pd.read_csv(os.path.join(output_directory, \"combined_data.csv\") ,index_col=0, parse_dates=True)\n",
    "data.info()"
   ]
  },
  {
   "cell_type": "markdown",
   "id": "26a9fd26",
   "metadata": {
    "jp-MarkdownHeadingCollapsed": true,
    "tags": []
   },
   "source": [
    "## Results:\n",
    "\n",
    "| Team Member          | Operating System | RAM (GB) | Processor                 | Is SSD | Time taken |\n",
    "| -------------------- | ---------------- | -------- | ------------------------- | ------ | ---------- |\n",
    "|  Reza Mirzazadeh |  |  |  |  |  |\n",
    "| Taiwo          |  |  |  |  |  |\n",
    "| Allyson Stoll         | MacOS BigSur     | 16    | 2.8GHz Intel Core i7         | Yes   | 1 min 11s  |\n",
    "| Ramiro Mejia          | Windows 10 x64   | 8     | Intel Core i5                | No    | 2 mins 25s |"
   ]
  },
  {
   "cell_type": "markdown",
   "id": "85d81e6e",
   "metadata": {},
   "source": [
    "## Changing dtypes"
   ]
  },
  {
   "cell_type": "code",
   "execution_count": 10,
   "id": "061d9c6b",
   "metadata": {},
   "outputs": [
    {
     "name": "stdout",
     "output_type": "stream",
     "text": [
      "<class 'pandas.core.frame.DataFrame'>\n",
      "DatetimeIndex: 62467843 entries, 1889-01-01 12:00:00 to 2014-12-31 12:00:00\n",
      "Data columns (total 6 columns):\n",
      " #   Column         Dtype  \n",
      "---  ------         -----  \n",
      " 0   lat_min        float16\n",
      " 1   lat_max        float16\n",
      " 2   lon_min        float16\n",
      " 3   lon_max        float16\n",
      " 4   rain (mm/day)  float16\n",
      " 5   file           object \n",
      "dtypes: float16(5), object(1)\n",
      "memory usage: 1.5+ GB\n",
      "CPU times: user 56.8 s, sys: 6.51 s, total: 1min 3s\n",
      "Wall time: 1min 4s\n"
     ]
    }
   ],
   "source": [
    "%%time\n",
    "\n",
    "types = {'lat_min': 'float16', \n",
    "          'lat_max': 'float16', \n",
    "          'lon_min': 'float16', \n",
    "          'lon_max': 'float16',\n",
    "          'rain (mm/day)':'float16',\n",
    "          'file':'str'}\n",
    "\n",
    "df = pd.read_csv(os.path.join(output_directory, \"combined_data.csv\"),index_col=0, parse_dates=True, dtype=types)\n",
    "df.info()"
   ]
  },
  {
   "cell_type": "markdown",
   "id": "4b594eb9",
   "metadata": {},
   "source": [
    "## Results:\n",
    "\n",
    "| Team Member          | Operating System | RAM (GB) | Processor                 | Is SSD | Time taken |\n",
    "| -------------------- | ---------------- | -------- | ------------------------- | ------ | ---------- |\n",
    "|  Reza Mirzazadeh |  |  |  |  |  |\n",
    "| Taiwo          |  |  |  |  |  |\n",
    "| Allyson Stoll         | MacOS BigSur     | 16    | 2.8GHz Intel Core i7         | Yes   | 1 min 3s   |\n",
    "| Ramiro Mejia          | Windows 10 x64   | 8     | Intel Core i5                | No    | 2 mins 6s  |"
   ]
  },
  {
   "cell_type": "markdown",
   "id": "d00ada23",
   "metadata": {},
   "source": [
    "## Selected columns"
   ]
  },
  {
   "cell_type": "code",
   "execution_count": 11,
   "id": "f685717b",
   "metadata": {},
   "outputs": [
    {
     "name": "stdout",
     "output_type": "stream",
     "text": [
      "<class 'pandas.core.frame.DataFrame'>\n",
      "Float64Index: 62467843 entries, 0.0 to 68.125\n",
      "Data columns (total 1 columns):\n",
      " #   Column  Dtype \n",
      "---  ------  ----- \n",
      " 0   file    object\n",
      "dtypes: object(1)\n",
      "memory usage: 953.2+ MB\n",
      "CPU times: user 1min 14s, sys: 8.45 s, total: 1min 22s\n",
      "Wall time: 1min 23s\n"
     ]
    }
   ],
   "source": [
    "%%time\n",
    "\n",
    "cols = [\"rain (mm/day)\",\"file\"]\n",
    "types = {'rain (mm/day)':'float16',\n",
    "        'file':'str'}\n",
    "df = pd.read_csv(os.path.join(output_directory, \"combined_data.csv\"),\n",
    "                 index_col=0, parse_dates=True, usecols=cols, dtype=types)\n",
    "df.info()"
   ]
  },
  {
   "cell_type": "markdown",
   "id": "e0b016b3",
   "metadata": {},
   "source": [
    "## Results:\n",
    "\n",
    "| Team Member          | Operating System | RAM (GB) | Processor                 | Is SSD | Time taken |\n",
    "| -------------------- | ---------------- | -------- | ------------------------- | ------ | ---------- |\n",
    "|  Reza Mirzazadeh |  |  |  |  |  |\n",
    "| Taiwo          |  |  |  |  |  |\n",
    "| Allyson Stoll         | MacOS BigSur     | 16    | 2.8GHz Intel Core i7         | Yes   | 1 min 22s   |\n",
    "| Ramiro Mejia          | Windows 10 x64   | 8     | Intel Core i5  | No    | 2 mins 7s |"
   ]
  },
  {
   "cell_type": "code",
   "execution_count": 12,
   "id": "8b874b03-a08c-4876-a575-3c6d8a61a36b",
   "metadata": {},
   "outputs": [
    {
     "name": "stdout",
     "output_type": "stream",
     "text": [
      "CPU times: user 6.33 s, sys: 1.66 s, total: 7.99 s\n",
      "Wall time: 8.04 s\n"
     ]
    },
    {
     "data": {
      "text/html": [
       "<div>\n",
       "<style scoped>\n",
       "    .dataframe tbody tr th:only-of-type {\n",
       "        vertical-align: middle;\n",
       "    }\n",
       "\n",
       "    .dataframe tbody tr th {\n",
       "        vertical-align: top;\n",
       "    }\n",
       "\n",
       "    .dataframe thead tr th {\n",
       "        text-align: left;\n",
       "    }\n",
       "\n",
       "    .dataframe thead tr:last-of-type th {\n",
       "        text-align: right;\n",
       "    }\n",
       "</style>\n",
       "<table border=\"1\" class=\"dataframe\">\n",
       "  <thead>\n",
       "    <tr>\n",
       "      <th></th>\n",
       "      <th colspan=\"8\" halign=\"left\">rain (mm/day)</th>\n",
       "    </tr>\n",
       "    <tr>\n",
       "      <th></th>\n",
       "      <th>count</th>\n",
       "      <th>mean</th>\n",
       "      <th>std</th>\n",
       "      <th>min</th>\n",
       "      <th>25%</th>\n",
       "      <th>50%</th>\n",
       "      <th>75%</th>\n",
       "      <th>max</th>\n",
       "    </tr>\n",
       "    <tr>\n",
       "      <th>file</th>\n",
       "      <th></th>\n",
       "      <th></th>\n",
       "      <th></th>\n",
       "      <th></th>\n",
       "      <th></th>\n",
       "      <th></th>\n",
       "      <th></th>\n",
       "      <th></th>\n",
       "    </tr>\n",
       "  </thead>\n",
       "  <tbody>\n",
       "    <tr>\n",
       "      <th>ACCESS-CM2</th>\n",
       "      <td>1932840.0</td>\n",
       "      <td>1.787023</td>\n",
       "      <td>5.914173</td>\n",
       "      <td>0.0</td>\n",
       "      <td>5.390167e-03</td>\n",
       "      <td>0.100281</td>\n",
       "      <td>0.727051</td>\n",
       "      <td>433.0000</td>\n",
       "    </tr>\n",
       "    <tr>\n",
       "      <th>ACCESS-ESM1-5</th>\n",
       "      <td>1610700.0</td>\n",
       "      <td>2.217500</td>\n",
       "      <td>6.422388</td>\n",
       "      <td>0.0</td>\n",
       "      <td>1.029015e-03</td>\n",
       "      <td>0.134521</td>\n",
       "      <td>1.314453</td>\n",
       "      <td>202.0000</td>\n",
       "    </tr>\n",
       "    <tr>\n",
       "      <th>AWI-ESM-1-1-LR</th>\n",
       "      <td>966420.0</td>\n",
       "      <td>2.026072</td>\n",
       "      <td>5.321893</td>\n",
       "      <td>0.0</td>\n",
       "      <td>0.000000e+00</td>\n",
       "      <td>0.044250</td>\n",
       "      <td>0.985352</td>\n",
       "      <td>89.4375</td>\n",
       "    </tr>\n",
       "    <tr>\n",
       "      <th>BCC-CSM2-MR</th>\n",
       "      <td>3035340.0</td>\n",
       "      <td>1.951832</td>\n",
       "      <td>6.200959</td>\n",
       "      <td>0.0</td>\n",
       "      <td>0.000000e+00</td>\n",
       "      <td>0.043213</td>\n",
       "      <td>0.984375</td>\n",
       "      <td>286.2500</td>\n",
       "    </tr>\n",
       "    <tr>\n",
       "      <th>BCC-ESM1</th>\n",
       "      <td>551880.0</td>\n",
       "      <td>1.811032</td>\n",
       "      <td>5.358356</td>\n",
       "      <td>0.0</td>\n",
       "      <td>0.000000e+00</td>\n",
       "      <td>0.010910</td>\n",
       "      <td>0.837402</td>\n",
       "      <td>164.0000</td>\n",
       "    </tr>\n",
       "    <tr>\n",
       "      <th>CMCC-CM2-HR4</th>\n",
       "      <td>3541230.0</td>\n",
       "      <td>2.279351</td>\n",
       "      <td>5.629971</td>\n",
       "      <td>0.0</td>\n",
       "      <td>1.562500e-02</td>\n",
       "      <td>0.268799</td>\n",
       "      <td>1.789062</td>\n",
       "      <td>224.1250</td>\n",
       "    </tr>\n",
       "    <tr>\n",
       "      <th>CMCC-CM2-SR5</th>\n",
       "      <td>3541230.0</td>\n",
       "      <td>2.383389</td>\n",
       "      <td>5.895953</td>\n",
       "      <td>0.0</td>\n",
       "      <td>4.634857e-03</td>\n",
       "      <td>0.217163</td>\n",
       "      <td>1.839844</td>\n",
       "      <td>202.8750</td>\n",
       "    </tr>\n",
       "    <tr>\n",
       "      <th>CMCC-ESM2</th>\n",
       "      <td>3541230.0</td>\n",
       "      <td>2.266125</td>\n",
       "      <td>5.538432</td>\n",
       "      <td>0.0</td>\n",
       "      <td>3.831863e-03</td>\n",
       "      <td>0.202881</td>\n",
       "      <td>1.773438</td>\n",
       "      <td>230.2500</td>\n",
       "    </tr>\n",
       "    <tr>\n",
       "      <th>CanESM5</th>\n",
       "      <td>551880.0</td>\n",
       "      <td>1.894324</td>\n",
       "      <td>5.835748</td>\n",
       "      <td>0.0</td>\n",
       "      <td>5.088806e-03</td>\n",
       "      <td>0.086365</td>\n",
       "      <td>1.021484</td>\n",
       "      <td>173.8750</td>\n",
       "    </tr>\n",
       "    <tr>\n",
       "      <th>EC-Earth3-Veg-LR</th>\n",
       "      <td>3037320.0</td>\n",
       "      <td>1.516259</td>\n",
       "      <td>4.714336</td>\n",
       "      <td>0.0</td>\n",
       "      <td>0.000000e+00</td>\n",
       "      <td>0.009804</td>\n",
       "      <td>0.666016</td>\n",
       "      <td>181.3750</td>\n",
       "    </tr>\n",
       "    <tr>\n",
       "      <th>FGOALS-f3-L</th>\n",
       "      <td>3219300.0</td>\n",
       "      <td>1.627373</td>\n",
       "      <td>5.747383</td>\n",
       "      <td>0.0</td>\n",
       "      <td>1.072884e-06</td>\n",
       "      <td>0.022171</td>\n",
       "      <td>0.633789</td>\n",
       "      <td>221.8750</td>\n",
       "    </tr>\n",
       "    <tr>\n",
       "      <th>FGOALS-g3</th>\n",
       "      <td>1287720.0</td>\n",
       "      <td>2.156419</td>\n",
       "      <td>6.015487</td>\n",
       "      <td>0.0</td>\n",
       "      <td>7.446289e-03</td>\n",
       "      <td>0.197266</td>\n",
       "      <td>1.360352</td>\n",
       "      <td>231.0000</td>\n",
       "    </tr>\n",
       "    <tr>\n",
       "      <th>GFDL-CM4</th>\n",
       "      <td>3219300.0</td>\n",
       "      <td>1.414485</td>\n",
       "      <td>5.024921</td>\n",
       "      <td>0.0</td>\n",
       "      <td>1.096725e-04</td>\n",
       "      <td>0.018845</td>\n",
       "      <td>0.454590</td>\n",
       "      <td>213.0000</td>\n",
       "    </tr>\n",
       "    <tr>\n",
       "      <th>GFDL-ESM4</th>\n",
       "      <td>0.0</td>\n",
       "      <td>NaN</td>\n",
       "      <td>NaN</td>\n",
       "      <td>NaN</td>\n",
       "      <td>NaN</td>\n",
       "      <td>NaN</td>\n",
       "      <td>NaN</td>\n",
       "      <td>NaN</td>\n",
       "    </tr>\n",
       "    <tr>\n",
       "      <th>INM-CM4-8</th>\n",
       "      <td>1609650.0</td>\n",
       "      <td>2.811463</td>\n",
       "      <td>6.266296</td>\n",
       "      <td>0.0</td>\n",
       "      <td>4.249573e-03</td>\n",
       "      <td>0.572266</td>\n",
       "      <td>2.857422</td>\n",
       "      <td>213.3750</td>\n",
       "    </tr>\n",
       "    <tr>\n",
       "      <th>INM-CM5-0</th>\n",
       "      <td>1609650.0</td>\n",
       "      <td>2.669014</td>\n",
       "      <td>6.534091</td>\n",
       "      <td>0.0</td>\n",
       "      <td>2.551079e-05</td>\n",
       "      <td>0.422607</td>\n",
       "      <td>2.439453</td>\n",
       "      <td>183.7500</td>\n",
       "    </tr>\n",
       "    <tr>\n",
       "      <th>KIOST-ESM</th>\n",
       "      <td>1287720.0</td>\n",
       "      <td>1.102351</td>\n",
       "      <td>3.852046</td>\n",
       "      <td>0.0</td>\n",
       "      <td>6.467104e-05</td>\n",
       "      <td>0.023483</td>\n",
       "      <td>0.519531</td>\n",
       "      <td>171.1250</td>\n",
       "    </tr>\n",
       "    <tr>\n",
       "      <th>MIROC6</th>\n",
       "      <td>2070900.0</td>\n",
       "      <td>2.301662</td>\n",
       "      <td>6.393745</td>\n",
       "      <td>0.0</td>\n",
       "      <td>3.511429e-03</td>\n",
       "      <td>0.133545</td>\n",
       "      <td>1.399414</td>\n",
       "      <td>226.5000</td>\n",
       "    </tr>\n",
       "    <tr>\n",
       "      <th>MPI-ESM-1-2-HAM</th>\n",
       "      <td>966420.0</td>\n",
       "      <td>1.610720</td>\n",
       "      <td>4.885517</td>\n",
       "      <td>0.0</td>\n",
       "      <td>0.000000e+00</td>\n",
       "      <td>0.000000</td>\n",
       "      <td>0.321533</td>\n",
       "      <td>94.2500</td>\n",
       "    </tr>\n",
       "    <tr>\n",
       "      <th>MPI-ESM1-2-HR</th>\n",
       "      <td>5154240.0</td>\n",
       "      <td>0.995569</td>\n",
       "      <td>4.083814</td>\n",
       "      <td>0.0</td>\n",
       "      <td>0.000000e+00</td>\n",
       "      <td>0.000000</td>\n",
       "      <td>0.123657</td>\n",
       "      <td>166.0000</td>\n",
       "    </tr>\n",
       "    <tr>\n",
       "      <th>MPI-ESM1-2-LR</th>\n",
       "      <td>966420.0</td>\n",
       "      <td>1.074307</td>\n",
       "      <td>3.911690</td>\n",
       "      <td>0.0</td>\n",
       "      <td>0.000000e+00</td>\n",
       "      <td>0.000000</td>\n",
       "      <td>0.178345</td>\n",
       "      <td>83.9375</td>\n",
       "    </tr>\n",
       "    <tr>\n",
       "      <th>MRI-ESM2-0</th>\n",
       "      <td>3037320.0</td>\n",
       "      <td>1.368030</td>\n",
       "      <td>4.517986</td>\n",
       "      <td>0.0</td>\n",
       "      <td>5.960464e-08</td>\n",
       "      <td>0.004738</td>\n",
       "      <td>0.458008</td>\n",
       "      <td>156.0000</td>\n",
       "    </tr>\n",
       "    <tr>\n",
       "      <th>NESM3</th>\n",
       "      <td>966420.0</td>\n",
       "      <td>1.621936</td>\n",
       "      <td>4.971972</td>\n",
       "      <td>0.0</td>\n",
       "      <td>0.000000e+00</td>\n",
       "      <td>0.006626</td>\n",
       "      <td>0.505371</td>\n",
       "      <td>113.9375</td>\n",
       "    </tr>\n",
       "    <tr>\n",
       "      <th>NorESM2-LM</th>\n",
       "      <td>919800.0</td>\n",
       "      <td>2.230799</td>\n",
       "      <td>5.681568</td>\n",
       "      <td>0.0</td>\n",
       "      <td>3.757477e-04</td>\n",
       "      <td>0.092834</td>\n",
       "      <td>1.479492</td>\n",
       "      <td>131.3750</td>\n",
       "    </tr>\n",
       "    <tr>\n",
       "      <th>NorESM2-MM</th>\n",
       "      <td>3541230.0</td>\n",
       "      <td>2.232965</td>\n",
       "      <td>6.151682</td>\n",
       "      <td>0.0</td>\n",
       "      <td>4.057884e-04</td>\n",
       "      <td>0.081848</td>\n",
       "      <td>1.348633</td>\n",
       "      <td>263.7500</td>\n",
       "    </tr>\n",
       "    <tr>\n",
       "      <th>SAM0-UNICON</th>\n",
       "      <td>3541153.0</td>\n",
       "      <td>2.169676</td>\n",
       "      <td>6.383242</td>\n",
       "      <td>0.0</td>\n",
       "      <td>1.054406e-04</td>\n",
       "      <td>0.064453</td>\n",
       "      <td>1.222656</td>\n",
       "      <td>208.2500</td>\n",
       "    </tr>\n",
       "    <tr>\n",
       "      <th>TaiESM1</th>\n",
       "      <td>3541230.0</td>\n",
       "      <td>2.224575</td>\n",
       "      <td>5.886574</td>\n",
       "      <td>0.0</td>\n",
       "      <td>1.763344e-03</td>\n",
       "      <td>0.116699</td>\n",
       "      <td>1.458008</td>\n",
       "      <td>200.5000</td>\n",
       "    </tr>\n",
       "  </tbody>\n",
       "</table>\n",
       "</div>"
      ],
      "text/plain": [
       "                 rain (mm/day)                                         \\\n",
       "                         count      mean       std  min           25%   \n",
       "file                                                                    \n",
       "ACCESS-CM2           1932840.0  1.787023  5.914173  0.0  5.390167e-03   \n",
       "ACCESS-ESM1-5        1610700.0  2.217500  6.422388  0.0  1.029015e-03   \n",
       "AWI-ESM-1-1-LR        966420.0  2.026072  5.321893  0.0  0.000000e+00   \n",
       "BCC-CSM2-MR          3035340.0  1.951832  6.200959  0.0  0.000000e+00   \n",
       "BCC-ESM1              551880.0  1.811032  5.358356  0.0  0.000000e+00   \n",
       "CMCC-CM2-HR4         3541230.0  2.279351  5.629971  0.0  1.562500e-02   \n",
       "CMCC-CM2-SR5         3541230.0  2.383389  5.895953  0.0  4.634857e-03   \n",
       "CMCC-ESM2            3541230.0  2.266125  5.538432  0.0  3.831863e-03   \n",
       "CanESM5               551880.0  1.894324  5.835748  0.0  5.088806e-03   \n",
       "EC-Earth3-Veg-LR     3037320.0  1.516259  4.714336  0.0  0.000000e+00   \n",
       "FGOALS-f3-L          3219300.0  1.627373  5.747383  0.0  1.072884e-06   \n",
       "FGOALS-g3            1287720.0  2.156419  6.015487  0.0  7.446289e-03   \n",
       "GFDL-CM4             3219300.0  1.414485  5.024921  0.0  1.096725e-04   \n",
       "GFDL-ESM4                  0.0       NaN       NaN  NaN           NaN   \n",
       "INM-CM4-8            1609650.0  2.811463  6.266296  0.0  4.249573e-03   \n",
       "INM-CM5-0            1609650.0  2.669014  6.534091  0.0  2.551079e-05   \n",
       "KIOST-ESM            1287720.0  1.102351  3.852046  0.0  6.467104e-05   \n",
       "MIROC6               2070900.0  2.301662  6.393745  0.0  3.511429e-03   \n",
       "MPI-ESM-1-2-HAM       966420.0  1.610720  4.885517  0.0  0.000000e+00   \n",
       "MPI-ESM1-2-HR        5154240.0  0.995569  4.083814  0.0  0.000000e+00   \n",
       "MPI-ESM1-2-LR         966420.0  1.074307  3.911690  0.0  0.000000e+00   \n",
       "MRI-ESM2-0           3037320.0  1.368030  4.517986  0.0  5.960464e-08   \n",
       "NESM3                 966420.0  1.621936  4.971972  0.0  0.000000e+00   \n",
       "NorESM2-LM            919800.0  2.230799  5.681568  0.0  3.757477e-04   \n",
       "NorESM2-MM           3541230.0  2.232965  6.151682  0.0  4.057884e-04   \n",
       "SAM0-UNICON          3541153.0  2.169676  6.383242  0.0  1.054406e-04   \n",
       "TaiESM1              3541230.0  2.224575  5.886574  0.0  1.763344e-03   \n",
       "\n",
       "                                                \n",
       "                       50%       75%       max  \n",
       "file                                            \n",
       "ACCESS-CM2        0.100281  0.727051  433.0000  \n",
       "ACCESS-ESM1-5     0.134521  1.314453  202.0000  \n",
       "AWI-ESM-1-1-LR    0.044250  0.985352   89.4375  \n",
       "BCC-CSM2-MR       0.043213  0.984375  286.2500  \n",
       "BCC-ESM1          0.010910  0.837402  164.0000  \n",
       "CMCC-CM2-HR4      0.268799  1.789062  224.1250  \n",
       "CMCC-CM2-SR5      0.217163  1.839844  202.8750  \n",
       "CMCC-ESM2         0.202881  1.773438  230.2500  \n",
       "CanESM5           0.086365  1.021484  173.8750  \n",
       "EC-Earth3-Veg-LR  0.009804  0.666016  181.3750  \n",
       "FGOALS-f3-L       0.022171  0.633789  221.8750  \n",
       "FGOALS-g3         0.197266  1.360352  231.0000  \n",
       "GFDL-CM4          0.018845  0.454590  213.0000  \n",
       "GFDL-ESM4              NaN       NaN       NaN  \n",
       "INM-CM4-8         0.572266  2.857422  213.3750  \n",
       "INM-CM5-0         0.422607  2.439453  183.7500  \n",
       "KIOST-ESM         0.023483  0.519531  171.1250  \n",
       "MIROC6            0.133545  1.399414  226.5000  \n",
       "MPI-ESM-1-2-HAM   0.000000  0.321533   94.2500  \n",
       "MPI-ESM1-2-HR     0.000000  0.123657  166.0000  \n",
       "MPI-ESM1-2-LR     0.000000  0.178345   83.9375  \n",
       "MRI-ESM2-0        0.004738  0.458008  156.0000  \n",
       "NESM3             0.006626  0.505371  113.9375  \n",
       "NorESM2-LM        0.092834  1.479492  131.3750  \n",
       "NorESM2-MM        0.081848  1.348633  263.7500  \n",
       "SAM0-UNICON       0.064453  1.222656  208.2500  \n",
       "TaiESM1           0.116699  1.458008  200.5000  "
      ]
     },
     "execution_count": 12,
     "metadata": {},
     "output_type": "execute_result"
    }
   ],
   "source": [
    "%%time\n",
    "\n",
    "df.reset_index().groupby('file').describe()"
   ]
  },
  {
   "cell_type": "markdown",
   "id": "9ace5862-d4b4-4bd0-8c77-f42b06c34b5d",
   "metadata": {},
   "source": [
    "## Results:\n",
    "\n",
    "| Team Member          | Operating System | RAM (GB) | Processor                 | Is SSD | Time taken |\n",
    "| -------------------- | ---------------- | -------- | ------------------------- | ------ | ---------- |\n",
    "|  Reza Mirzazadeh |  |  |  |  |  |\n",
    "| Taiwo          |  |  |  |  |  |\n",
    "| Allyson Stoll         | MacOS BigSur     | 16    | 2.8GHz Intel Core i7         | Yes   | 8.45s      |\n",
    "| Ramiro Mejia          | Windows 10 x64   | 8     | Intel Core i5                | No    |     |"
   ]
  },
  {
   "cell_type": "markdown",
   "id": "46362bee",
   "metadata": {},
   "source": [
    "## Chunks"
   ]
  },
  {
   "cell_type": "code",
   "execution_count": 13,
   "id": "769e75b5",
   "metadata": {},
   "outputs": [
    {
     "name": "stdout",
     "output_type": "stream",
     "text": [
      "ACCESS-CM2          1932840\n",
      "ACCESS-ESM1-5       1610700\n",
      "AWI-ESM-1-1-LR       966420\n",
      "BCC-CSM2-MR         3035340\n",
      "BCC-ESM1             551880\n",
      "CMCC-CM2-HR4        3541230\n",
      "CMCC-CM2-SR5        3541230\n",
      "CMCC-ESM2           3541230\n",
      "CanESM5              551880\n",
      "EC-Earth3-Veg-LR    3037320\n",
      "FGOALS-f3-L         3219300\n",
      "FGOALS-g3           1287720\n",
      "GFDL-CM4            3219300\n",
      "GFDL-ESM4           3219300\n",
      "INM-CM4-8           1609650\n",
      "INM-CM5-0           1609650\n",
      "KIOST-ESM           1287720\n",
      "MIROC6              2070900\n",
      "MPI-ESM-1-2-HAM      966420\n",
      "MPI-ESM1-2-HR       5154240\n",
      "MPI-ESM1-2-LR        966420\n",
      "MRI-ESM2-0          3037320\n",
      "NESM3                966420\n",
      "NorESM2-LM           919800\n",
      "NorESM2-MM          3541230\n",
      "SAM0-UNICON         3541153\n",
      "TaiESM1             3541230\n",
      "dtype: int64\n",
      "CPU times: user 53.1 s, sys: 7.9 s, total: 1min\n",
      "Wall time: 1min 1s\n"
     ]
    }
   ],
   "source": [
    "%%time\n",
    "\n",
    "counts = pd.Series(dtype=int)\n",
    "for chunk in pd.read_csv(os.path.join(output_directory, \"combined_data.csv\"), chunksize=100_000):\n",
    "    counts = counts.add(chunk[\"file\"].value_counts(), fill_value=0)\n",
    "print(counts.astype(int))"
   ]
  },
  {
   "cell_type": "markdown",
   "id": "f504198c",
   "metadata": {},
   "source": [
    "## Results:\n",
    "\n",
    "| Team Member          | Operating System | RAM (GB) | Processor                 | Is SSD | Time taken |\n",
    "| -------------------- | ---------------- | -------- | ------------------------- | ------ | ---------- |\n",
    "|  Reza Mirzazadeh |  |  |  |  |\n",
    "| Taiwo          |  |  |  |  |  |\n",
    "| Allyson Stoll         | MacOS BigSur     | 16    | 2.8GHz Intel Core i7         | Yes   | 1 min 1s   |\n",
    "| Ramiro Mejia          | Windows 10 x64   | 8     | Intel Core i5                | No    | 1 mins 40s |"
   ]
  },
  {
   "cell_type": "markdown",
   "id": "3ad622fa",
   "metadata": {},
   "source": [
    "## Simple EDA in R\n",
    "\n",
    "Parquet was selected as it is language agnostic and should provide excellent file size reduction. It is also partitionable, so we can select only the information we want to do EDA."
   ]
  },
  {
   "cell_type": "code",
   "execution_count": 17,
   "id": "1569efb5-ffc5-4464-b7e8-03d3f24bba2f",
   "metadata": {},
   "outputs": [
    {
     "name": "stdout",
     "output_type": "stream",
     "text": [
      "CPU times: user 41.6 s, sys: 19.8 s, total: 1min 1s\n",
      "Wall time: 52.1 s\n"
     ]
    }
   ],
   "source": [
    "%%time\n",
    "\n",
    "data.to_parquet(os.path.join(output_directory, \"combined_data.parquet\"))\n",
    "data.to_parquet(os.path.join(output_directory, \"combined_data_partition.parquet\"), partition_cols=['file'])"
   ]
  },
  {
   "cell_type": "markdown",
   "id": "62aaab2c-0891-4a9e-9247-c107d427fde5",
   "metadata": {},
   "source": [
    "## Results:\n",
    "\n",
    "| Team Member          | Operating System | RAM (GB) | Processor                 | Is SSD | Time taken |\n",
    "| -------------------- | ---------------- | -------- | ------------------------- | ------ | ---------- |\n",
    "|  Reza Mirzazadeh |  |  |  |  |\n",
    "| Taiwo          |  |  |  |  |  |\n",
    "| Allyson Stoll         | MacOS BigSur     | 16    | 2.8GHz Intel Core i7         | Yes   | 1min 1s    |\n",
    "| Ramiro Mejia          | Windows 10 x64   | 8     | Intel Core i5                | No    |      |"
   ]
  },
  {
   "cell_type": "code",
   "execution_count": 18,
   "id": "1d0b52a0-dfbc-4400-9826-9264e7216c9e",
   "metadata": {},
   "outputs": [
    {
     "name": "stdout",
     "output_type": "stream",
     "text": [
      "5.6G\tdata/combined_data.csv\n",
      "544M\tdata/combined_data.parquet\n",
      "681M\tdata/combined_data_partition.parquet\n"
     ]
    }
   ],
   "source": [
    "%%sh\n",
    "# I am just seeing the size of the csv data\n",
    "du -sh data/combined_data.csv\n",
    "\n",
    "# I am just seeing the size of the parquet data\n",
    "du -sh data/combined_data.parquet\n",
    "\n",
    "# I am just seeing the size of the partitioned parquet data\n",
    "du -sh data/combined_data_partition.parquet"
   ]
  },
  {
   "cell_type": "code",
   "execution_count": 2,
   "id": "9380dfd9-06f5-4ac5-ba5b-d161a9be093e",
   "metadata": {},
   "outputs": [],
   "source": [
    "%load_ext rpy2.ipython"
   ]
  },
  {
   "cell_type": "code",
   "execution_count": 6,
   "id": "e0496899-113e-4441-8bd3-733e9bec1761",
   "metadata": {},
   "outputs": [
    {
     "ename": "RParsingError",
     "evalue": "Parsing status not OK - PARSING_STATUS.PARSE_ERROR",
     "output_type": "error",
     "traceback": [
      "\u001b[0;31m---------------------------------------------------------------------------\u001b[0m",
      "\u001b[0;31mRParsingError\u001b[0m                             Traceback (most recent call last)",
      "File \u001b[0;32m<timed eval>:1\u001b[0m, in \u001b[0;36m<module>\u001b[0;34m\u001b[0m\n",
      "File \u001b[0;32m/opt/miniconda3/envs/525_2022/lib/python3.8/site-packages/IPython/core/interactiveshell.py:2347\u001b[0m, in \u001b[0;36mInteractiveShell.run_cell_magic\u001b[0;34m(self, magic_name, line, cell)\u001b[0m\n\u001b[1;32m   2345\u001b[0m \u001b[38;5;28;01mwith\u001b[39;00m \u001b[38;5;28mself\u001b[39m\u001b[38;5;241m.\u001b[39mbuiltin_trap:\n\u001b[1;32m   2346\u001b[0m     args \u001b[38;5;241m=\u001b[39m (magic_arg_s, cell)\n\u001b[0;32m-> 2347\u001b[0m     result \u001b[38;5;241m=\u001b[39m \u001b[43mfn\u001b[49m\u001b[43m(\u001b[49m\u001b[38;5;241;43m*\u001b[39;49m\u001b[43margs\u001b[49m\u001b[43m,\u001b[49m\u001b[43m \u001b[49m\u001b[38;5;241;43m*\u001b[39;49m\u001b[38;5;241;43m*\u001b[39;49m\u001b[43mkwargs\u001b[49m\u001b[43m)\u001b[49m\n\u001b[1;32m   2348\u001b[0m \u001b[38;5;28;01mreturn\u001b[39;00m result\n",
      "File \u001b[0;32m/opt/miniconda3/envs/525_2022/lib/python3.8/site-packages/rpy2/ipython/rmagic.py:763\u001b[0m, in \u001b[0;36mRMagics.R\u001b[0;34m(self, line, cell, local_ns)\u001b[0m\n\u001b[1;32m    761\u001b[0m         return_output \u001b[38;5;241m=\u001b[39m \u001b[38;5;28;01mFalse\u001b[39;00m\n\u001b[1;32m    762\u001b[0m \u001b[38;5;28;01melse\u001b[39;00m:\n\u001b[0;32m--> 763\u001b[0m     text_result, result, visible \u001b[38;5;241m=\u001b[39m \u001b[38;5;28;43mself\u001b[39;49m\u001b[38;5;241;43m.\u001b[39;49m\u001b[43meval\u001b[49m\u001b[43m(\u001b[49m\u001b[43mcode\u001b[49m\u001b[43m)\u001b[49m\n\u001b[1;32m    764\u001b[0m     text_output \u001b[38;5;241m+\u001b[39m\u001b[38;5;241m=\u001b[39m text_result\n\u001b[1;32m    765\u001b[0m     \u001b[38;5;28;01mif\u001b[39;00m visible:\n",
      "File \u001b[0;32m/opt/miniconda3/envs/525_2022/lib/python3.8/site-packages/rpy2/ipython/rmagic.py:268\u001b[0m, in \u001b[0;36mRMagics.eval\u001b[0;34m(self, code)\u001b[0m\n\u001b[1;32m    260\u001b[0m     stack\u001b[38;5;241m.\u001b[39menter(\n\u001b[1;32m    261\u001b[0m         rpy2\u001b[38;5;241m.\u001b[39mrinterface_lib\n\u001b[1;32m    262\u001b[0m         \u001b[38;5;241m.\u001b[39mcallbacks\u001b[38;5;241m.\u001b[39mobj_in_module(rpy2\u001b[38;5;241m.\u001b[39mrinterface_lib\u001b[38;5;241m.\u001b[39mcallbacks,\n\u001b[1;32m    263\u001b[0m                                  \u001b[38;5;124m'\u001b[39m\u001b[38;5;124mconsolewrite_print\u001b[39m\u001b[38;5;124m'\u001b[39m,\n\u001b[1;32m    264\u001b[0m                                  \u001b[38;5;28mself\u001b[39m\u001b[38;5;241m.\u001b[39mwrite_console_regular)\n\u001b[1;32m    265\u001b[0m     )\n\u001b[1;32m    266\u001b[0m \u001b[38;5;28;01mtry\u001b[39;00m:\n\u001b[1;32m    267\u001b[0m     \u001b[38;5;66;03m# Need the newline in case the last line in code is a comment.\u001b[39;00m\n\u001b[0;32m--> 268\u001b[0m     value, visible \u001b[38;5;241m=\u001b[39m \u001b[43mro\u001b[49m\u001b[38;5;241;43m.\u001b[39;49m\u001b[43mr\u001b[49m\u001b[43m(\u001b[49m\u001b[38;5;124;43m\"\u001b[39;49m\u001b[38;5;124;43mwithVisible(\u001b[39;49m\u001b[38;5;124;43m{\u001b[39;49m\u001b[38;5;132;43;01m%s\u001b[39;49;00m\u001b[38;5;130;43;01m\\n\u001b[39;49;00m\u001b[38;5;124;43m})\u001b[39;49m\u001b[38;5;124;43m\"\u001b[39;49m\u001b[43m \u001b[49m\u001b[38;5;241;43m%\u001b[39;49m\u001b[43m \u001b[49m\u001b[43mcode\u001b[49m\u001b[43m)\u001b[49m\n\u001b[1;32m    269\u001b[0m \u001b[38;5;28;01mexcept\u001b[39;00m (ri\u001b[38;5;241m.\u001b[39membedded\u001b[38;5;241m.\u001b[39mRRuntimeError, \u001b[38;5;167;01mValueError\u001b[39;00m) \u001b[38;5;28;01mas\u001b[39;00m exception:\n\u001b[1;32m    270\u001b[0m     \u001b[38;5;66;03m# Otherwise next return seems to have copy of error.\u001b[39;00m\n\u001b[1;32m    271\u001b[0m     warning_or_other_msg \u001b[38;5;241m=\u001b[39m \u001b[38;5;28mself\u001b[39m\u001b[38;5;241m.\u001b[39mflush()\n",
      "File \u001b[0;32m/opt/miniconda3/envs/525_2022/lib/python3.8/site-packages/rpy2/robjects/__init__.py:437\u001b[0m, in \u001b[0;36mR.__call__\u001b[0;34m(self, string)\u001b[0m\n\u001b[1;32m    436\u001b[0m \u001b[38;5;28;01mdef\u001b[39;00m \u001b[38;5;21m__call__\u001b[39m(\u001b[38;5;28mself\u001b[39m, string):\n\u001b[0;32m--> 437\u001b[0m     p \u001b[38;5;241m=\u001b[39m \u001b[43mrinterface\u001b[49m\u001b[38;5;241;43m.\u001b[39;49m\u001b[43mparse\u001b[49m\u001b[43m(\u001b[49m\u001b[43mstring\u001b[49m\u001b[43m)\u001b[49m\n\u001b[1;32m    438\u001b[0m     res \u001b[38;5;241m=\u001b[39m \u001b[38;5;28mself\u001b[39m\u001b[38;5;241m.\u001b[39meval(p)\n\u001b[1;32m    439\u001b[0m     \u001b[38;5;28;01mreturn\u001b[39;00m conversion\u001b[38;5;241m.\u001b[39mrpy2py(res)\n",
      "File \u001b[0;32m/opt/miniconda3/envs/525_2022/lib/python3.8/site-packages/rpy2/rinterface_lib/conversion.py:45\u001b[0m, in \u001b[0;36m_cdata_res_to_rinterface.<locals>._\u001b[0;34m(*args, **kwargs)\u001b[0m\n\u001b[1;32m     44\u001b[0m \u001b[38;5;28;01mdef\u001b[39;00m \u001b[38;5;21m_\u001b[39m(\u001b[38;5;241m*\u001b[39margs, \u001b[38;5;241m*\u001b[39m\u001b[38;5;241m*\u001b[39mkwargs):\n\u001b[0;32m---> 45\u001b[0m     cdata \u001b[38;5;241m=\u001b[39m \u001b[43mfunction\u001b[49m\u001b[43m(\u001b[49m\u001b[38;5;241;43m*\u001b[39;49m\u001b[43margs\u001b[49m\u001b[43m,\u001b[49m\u001b[43m \u001b[49m\u001b[38;5;241;43m*\u001b[39;49m\u001b[38;5;241;43m*\u001b[39;49m\u001b[43mkwargs\u001b[49m\u001b[43m)\u001b[49m\n\u001b[1;32m     46\u001b[0m     \u001b[38;5;66;03m# TODO: test cdata is of the expected CType\u001b[39;00m\n\u001b[1;32m     47\u001b[0m     \u001b[38;5;28;01mreturn\u001b[39;00m _cdata_to_rinterface(cdata)\n",
      "File \u001b[0;32m/opt/miniconda3/envs/525_2022/lib/python3.8/site-packages/rpy2/rinterface.py:103\u001b[0m, in \u001b[0;36mparse\u001b[0;34m(text, num)\u001b[0m\n\u001b[1;32m    101\u001b[0m robj \u001b[38;5;241m=\u001b[39m StrSexpVector([text])\n\u001b[1;32m    102\u001b[0m \u001b[38;5;28;01mwith\u001b[39;00m memorymanagement\u001b[38;5;241m.\u001b[39mrmemory() \u001b[38;5;28;01mas\u001b[39;00m rmemory:\n\u001b[0;32m--> 103\u001b[0m     res \u001b[38;5;241m=\u001b[39m \u001b[43m_rinterface\u001b[49m\u001b[38;5;241;43m.\u001b[39;49m\u001b[43m_parse\u001b[49m\u001b[43m(\u001b[49m\u001b[43mrobj\u001b[49m\u001b[38;5;241;43m.\u001b[39;49m\u001b[43m__sexp__\u001b[49m\u001b[38;5;241;43m.\u001b[39;49m\u001b[43m_cdata\u001b[49m\u001b[43m,\u001b[49m\u001b[43m \u001b[49m\u001b[43mnum\u001b[49m\u001b[43m,\u001b[49m\u001b[43m \u001b[49m\u001b[43mrmemory\u001b[49m\u001b[43m)\u001b[49m\n\u001b[1;32m    104\u001b[0m \u001b[38;5;28;01mreturn\u001b[39;00m res\n",
      "File \u001b[0;32m/opt/miniconda3/envs/525_2022/lib/python3.8/site-packages/rpy2/rinterface_lib/_rinterface_capi.py:652\u001b[0m, in \u001b[0;36m_parse\u001b[0;34m(cdata, num, rmemory)\u001b[0m\n\u001b[1;32m    645\u001b[0m \u001b[38;5;66;03m# TODO: design better handling of possible status:\u001b[39;00m\n\u001b[1;32m    646\u001b[0m \u001b[38;5;66;03m# PARSE_NULL,\u001b[39;00m\n\u001b[1;32m    647\u001b[0m \u001b[38;5;66;03m# PARSE_OK,\u001b[39;00m\n\u001b[1;32m    648\u001b[0m \u001b[38;5;66;03m# PARSE_INCOMPLETE,\u001b[39;00m\n\u001b[1;32m    649\u001b[0m \u001b[38;5;66;03m# PARSE_ERROR,\u001b[39;00m\n\u001b[1;32m    650\u001b[0m \u001b[38;5;66;03m# PARSE_EOF\u001b[39;00m\n\u001b[1;32m    651\u001b[0m \u001b[38;5;28;01mif\u001b[39;00m status[\u001b[38;5;241m0\u001b[39m] \u001b[38;5;241m!=\u001b[39m openrlib\u001b[38;5;241m.\u001b[39mrlib\u001b[38;5;241m.\u001b[39mPARSE_OK:\n\u001b[0;32m--> 652\u001b[0m     \u001b[38;5;28;01mraise\u001b[39;00m RParsingError(\u001b[38;5;124m'\u001b[39m\u001b[38;5;124mParsing status not OK\u001b[39m\u001b[38;5;124m'\u001b[39m,\n\u001b[1;32m    653\u001b[0m                         status\u001b[38;5;241m=\u001b[39mPARSING_STATUS(status[\u001b[38;5;241m0\u001b[39m]))\n\u001b[1;32m    654\u001b[0m \u001b[38;5;28;01mreturn\u001b[39;00m res\n",
      "\u001b[0;31mRParsingError\u001b[0m: Parsing status not OK - PARSING_STATUS.PARSE_ERROR"
     ]
    }
   ],
   "source": [
    "%%time\n",
    "%%R\n",
    "\n",
    "library(dplyr)\n",
    "library(arrow)\n",
    "library(ggplot2)\n",
    "\n",
    "data <- open_dataset(\"data/combined_data.parquet\") |>\n",
    "    select(\"rain (mm/day)\", \"file\") |>\n",
    "    rename(\"rain\" = \"rain (mm/day)\") |>\n",
    "    collect()\n",
    "\n",
    "# set seed and reduce dataset size for ggplot\n",
    "set.seed(8675309)\n",
    "data <- data |> sample_frac(0.5)\n",
    "\n",
    "data$file <- as.factor(data$file)\n",
    "\n",
    "# set seed and select 4 random file names for comparison\n",
    "set.seed(8675309)\n",
    "file_list <- sample(unique(data$file), 4)\n",
    "\n",
    "data <- data |>\n",
    "    filter(file %in% file_list)\n",
    "\n",
    "# Histogram with kernel density\n",
    "ggplot(data, aes(x = rain)) + \n",
    "   geom_histogram(aes(y = ..density..),\n",
    "                  colour = 1, fill = \"white\") +\n",
    "    geom_density(colour = 'darkgreen',\n",
    "                 fill = 'darkgreen',\n",
    "                 alpha = 0.4) +\n",
    "    facet_wrap(~file)"
   ]
  },
  {
   "cell_type": "markdown",
   "id": "b332012b-ebfb-4ad1-b7fc-4e235ffe21dc",
   "metadata": {},
   "source": [
    "## Results:\n",
    "\n",
    "| Team Member          | Operating System | RAM (GB) | Processor                 | Is SSD | Time taken |\n",
    "| -------------------- | ---------------- | -------- | ------------------------- | ------ | ---------- |\n",
    "|  Reza Mirzazadeh |  |  |  |  |\n",
    "| Taiwo          |  |  |  |  |  |\n",
    "| Allyson Stoll         | MacOS BigSur     | 16    | 2.8GHz Intel Core i7         | Yes   |    |\n",
    "| Ramiro Mejia          | Windows 10 x64   | 8     | Intel Core i5                | No    |      |"
   ]
  },
  {
   "cell_type": "code",
   "execution_count": null,
   "id": "8c36b88f-8be8-41ca-961b-ba500b948f97",
   "metadata": {},
   "outputs": [],
   "source": []
  }
 ],
 "metadata": {
  "kernelspec": {
   "display_name": "Python [conda env:525_2022]",
   "language": "python",
   "name": "conda-env-525_2022-py"
  },
  "language_info": {
   "codemirror_mode": {
    "name": "ipython",
    "version": 3
   },
   "file_extension": ".py",
   "mimetype": "text/x-python",
   "name": "python",
   "nbconvert_exporter": "python",
   "pygments_lexer": "ipython3",
   "version": "3.8.6"
  }
 },
 "nbformat": 4,
 "nbformat_minor": 5
}
